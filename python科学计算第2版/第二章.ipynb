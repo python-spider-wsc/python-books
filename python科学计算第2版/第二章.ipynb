{
 "cells": [
  {
   "cell_type": "code",
   "execution_count": 1,
   "id": "e7eb05ce",
   "metadata": {},
   "outputs": [],
   "source": [
    "from IPython.core.interactiveshell import InteractiveShell\n",
    "InteractiveShell.ast_node_interactivity = \"all\""
   ]
  },
  {
   "cell_type": "markdown",
   "id": "f629289b",
   "metadata": {},
   "source": [
    "# <center>第二章：NumPy-快速处理数据</center>"
   ]
  },
  {
   "cell_type": "markdown",
   "id": "9919747b",
   "metadata": {},
   "source": [
    "NumPy提供了两种基本的对象:\n",
    "+ ndarray: 它是存储**单—数掘类型**的多维数组\n",
    "+ ufunc: 它是能够对数组进行处理的特殊函数。"
   ]
  },
  {
   "cell_type": "code",
   "execution_count": 2,
   "id": "d526c903",
   "metadata": {},
   "outputs": [
    {
     "data": {
      "text/plain": [
       "'1.21.2'"
      ]
     },
     "execution_count": 2,
     "metadata": {},
     "output_type": "execute_result"
    }
   ],
   "source": [
    "import numpy as np\n",
    "np.__version__"
   ]
  },
  {
   "cell_type": "markdown",
   "id": "329e4217",
   "metadata": {},
   "source": [
    "## ndarray\n",
    "ndarray不仅高效地存储大量的数值元素，从而提高数组计算的运行速度，还能用它与各种扩展库进行数据交换。"
   ]
  },
  {
   "cell_type": "markdown",
   "id": "d84f68fd",
   "metadata": {},
   "source": [
    "### 创建ndarray对象"
   ]
  },
  {
   "cell_type": "code",
   "execution_count": 3,
   "id": "ac2c6a40",
   "metadata": {},
   "outputs": [
    {
     "data": {
      "text/plain": [
       "array([1, 2, 3, 4, 5])"
      ]
     },
     "execution_count": 3,
     "metadata": {},
     "output_type": "execute_result"
    }
   ],
   "source": [
    "a = np.array([1,2,3,4,5])\n",
    "a"
   ]
  },
  {
   "cell_type": "code",
   "execution_count": 4,
   "id": "e35c48df",
   "metadata": {},
   "outputs": [
    {
     "data": {
      "text/plain": [
       "array([[0, 1, 2, 3, 4],\n",
       "       [5, 6, 7, 8, 9]])"
      ]
     },
     "execution_count": 4,
     "metadata": {},
     "output_type": "execute_result"
    }
   ],
   "source": [
    "b = np.array([range(5), range(5,10)])\n",
    "b"
   ]
  },
  {
   "cell_type": "markdown",
   "id": "d20767e4",
   "metadata": {},
   "source": [
    "数组的形状可以通过其shape属性获得，它是一个描述数组各个轴的长度的元组"
   ]
  },
  {
   "cell_type": "code",
   "execution_count": 5,
   "id": "6f6df4a5",
   "metadata": {},
   "outputs": [
    {
     "name": "stdout",
     "output_type": "stream",
     "text": [
      "(5,)\n",
      "(2, 5)\n"
     ]
    }
   ],
   "source": [
    "print(a.shape)\n",
    "print(b.shape)"
   ]
  },
  {
   "cell_type": "code",
   "execution_count": 6,
   "id": "108d1ce9",
   "metadata": {},
   "outputs": [
    {
     "data": {
      "text/plain": [
       "array([[0, 1],\n",
       "       [2, 3],\n",
       "       [4, 5],\n",
       "       [6, 7],\n",
       "       [8, 9]])"
      ]
     },
     "execution_count": 6,
     "metadata": {},
     "output_type": "execute_result"
    }
   ],
   "source": [
    "b.shape = 5,-1\n",
    "b"
   ]
  },
  {
   "cell_type": "markdown",
   "id": "5d086cdc",
   "metadata": {},
   "source": [
    "注意reshape并不是对数组进行转置，而只是改变每个轴的大小, reshape其中一个值可以为-1，将自动计算此轴的长度，而且数组的内存地址不会改变"
   ]
  },
  {
   "cell_type": "markdown",
   "id": "b12e433e",
   "metadata": {},
   "source": [
    "使用数组的reshape方法，可以创建指定形状的新数组，而原数组的形状保持不变"
   ]
  },
  {
   "cell_type": "code",
   "execution_count": 7,
   "id": "efd147dc",
   "metadata": {},
   "outputs": [
    {
     "data": {
      "text/plain": [
       "array([[0, 1, 2, 3, 4],\n",
       "       [5, 6, 7, 8, 9]])"
      ]
     },
     "execution_count": 7,
     "metadata": {},
     "output_type": "execute_result"
    },
    {
     "data": {
      "text/plain": [
       "array([[0, 1],\n",
       "       [2, 3],\n",
       "       [4, 5],\n",
       "       [6, 7],\n",
       "       [8, 9]])"
      ]
     },
     "execution_count": 7,
     "metadata": {},
     "output_type": "execute_result"
    }
   ],
   "source": [
    "c = b.reshape(2, 5)\n",
    "c\n",
    "b"
   ]
  },
  {
   "cell_type": "markdown",
   "id": "839d906b",
   "metadata": {},
   "source": [
    "通过reshape得到的数组与原数组共享数椐存储空间，因此修改其中任意一个数组的元素都会同时修改另一个数组的内容"
   ]
  },
  {
   "cell_type": "code",
   "execution_count": 8,
   "id": "0585e1ac",
   "metadata": {},
   "outputs": [
    {
     "data": {
      "text/plain": [
       "array([[100, 200,   2,   3,   4],\n",
       "       [  5,   6,   7,   8,   9]])"
      ]
     },
     "execution_count": 8,
     "metadata": {},
     "output_type": "execute_result"
    },
    {
     "data": {
      "text/plain": [
       "array([[100, 200],\n",
       "       [  2,   3],\n",
       "       [  4,   5],\n",
       "       [  6,   7],\n",
       "       [  8,   9]])"
      ]
     },
     "execution_count": 8,
     "metadata": {},
     "output_type": "execute_result"
    }
   ],
   "source": [
    "c[0,0] = 100\n",
    "b[0,1] = 200\n",
    "c\n",
    "b"
   ]
  },
  {
   "cell_type": "markdown",
   "id": "57ab10b5",
   "metadata": {},
   "source": [
    "### 元素类型\n",
    "数组的元素类型可以通过dtype属性获得"
   ]
  },
  {
   "cell_type": "code",
   "execution_count": 9,
   "id": "d6797327",
   "metadata": {},
   "outputs": [
    {
     "data": {
      "text/plain": [
       "dtype('int32')"
      ]
     },
     "execution_count": 9,
     "metadata": {},
     "output_type": "execute_result"
    }
   ],
   "source": [
    "c.dtype"
   ]
  },
  {
   "cell_type": "markdown",
   "id": "cd18aeae",
   "metadata": {},
   "source": [
    "创建numpy数组时，可以通过dtype参数在创建数组时指定元素类型"
   ]
  },
  {
   "cell_type": "code",
   "execution_count": 10,
   "id": "7f08fbaf",
   "metadata": {},
   "outputs": [
    {
     "data": {
      "text/plain": [
       "dtype('int64')"
      ]
     },
     "execution_count": 10,
     "metadata": {},
     "output_type": "execute_result"
    }
   ],
   "source": [
    "c = np.array([1,2,3,4,5,6], dtype=\"int64\")\n",
    "c.dtype"
   ]
  },
  {
   "cell_type": "markdown",
   "id": "f36ad1a7",
   "metadata": {},
   "source": [
    "可以通过下面命令查看有多少类型"
   ]
  },
  {
   "cell_type": "code",
   "execution_count": 11,
   "id": "eec9568c",
   "metadata": {},
   "outputs": [
    {
     "data": {
      "text/plain": [
       "{numpy.bool_,\n",
       " numpy.bytes_,\n",
       " numpy.clongdouble,\n",
       " numpy.complex128,\n",
       " numpy.complex64,\n",
       " numpy.datetime64,\n",
       " numpy.float16,\n",
       " numpy.float32,\n",
       " numpy.float64,\n",
       " numpy.int16,\n",
       " numpy.int32,\n",
       " numpy.int64,\n",
       " numpy.int8,\n",
       " numpy.intc,\n",
       " numpy.longdouble,\n",
       " numpy.object_,\n",
       " numpy.str_,\n",
       " numpy.timedelta64,\n",
       " numpy.uint16,\n",
       " numpy.uint32,\n",
       " numpy.uint64,\n",
       " numpy.uint8,\n",
       " numpy.uintc,\n",
       " numpy.void}"
      ]
     },
     "execution_count": 11,
     "metadata": {},
     "output_type": "execute_result"
    }
   ],
   "source": [
    "set(np.sctypeDict.values())"
   ]
  },
  {
   "cell_type": "code",
   "execution_count": 12,
   "id": "a11d6a61",
   "metadata": {},
   "outputs": [
    {
     "data": {
      "text/plain": [
       "array(['1', '2', '3'], dtype='<U1')"
      ]
     },
     "execution_count": 12,
     "metadata": {},
     "output_type": "execute_result"
    },
    {
     "data": {
      "text/plain": [
       "dtype('<U1')"
      ]
     },
     "execution_count": 12,
     "metadata": {},
     "output_type": "execute_result"
    }
   ],
   "source": [
    "c = np.array([1,2,3], dtype=np.str_)\n",
    "c\n",
    "c.dtype"
   ]
  },
  {
   "cell_type": "markdown",
   "id": "3342a0fb",
   "metadata": {},
   "source": [
    "通过dtype属性获取到的类型和指定的类型看上去不太一样，其实要通过dtype的type属性获取指定的类型"
   ]
  },
  {
   "cell_type": "code",
   "execution_count": 13,
   "id": "eac58d55",
   "metadata": {},
   "outputs": [
    {
     "data": {
      "text/plain": [
       "numpy.str_"
      ]
     },
     "execution_count": 13,
     "metadata": {},
     "output_type": "execute_result"
    }
   ],
   "source": [
    "c.dtype.type"
   ]
  },
  {
   "cell_type": "code",
   "execution_count": 14,
   "id": "0f1f2f7c",
   "metadata": {},
   "outputs": [
    {
     "data": {
      "text/plain": [
       "numpy.ndarray"
      ]
     },
     "execution_count": 14,
     "metadata": {},
     "output_type": "execute_result"
    }
   ],
   "source": [
    "type(c)"
   ]
  },
  {
   "cell_type": "markdown",
   "id": "e7620fea",
   "metadata": {},
   "source": [
    "numpy的类型与 Python的类型对象不同的是，它的取值范围有限，因此会存在溢出的问题"
   ]
  },
  {
   "cell_type": "code",
   "execution_count": 15,
   "id": "85a22ea0",
   "metadata": {},
   "outputs": [
    {
     "name": "stderr",
     "output_type": "stream",
     "text": [
      "D:\\MyConfiguration\\shucheng.wang\\AppData\\Local\\Temp/ipykernel_1420/3539468671.py:2: RuntimeWarning: overflow encountered in short_scalars\n",
      "  a*a\n"
     ]
    },
    {
     "data": {
      "text/plain": [
       "-25536"
      ]
     },
     "execution_count": 15,
     "metadata": {},
     "output_type": "execute_result"
    }
   ],
   "source": [
    "a = np.int16(200)\n",
    "a*a"
   ]
  },
  {
   "cell_type": "markdown",
   "id": "b6532d81",
   "metadata": {},
   "source": [
    "NumPy的数值对象的运算速度比Python的内置类型的运算速度慢很多"
   ]
  },
  {
   "cell_type": "markdown",
   "id": "1e26f04e",
   "metadata": {},
   "source": [
    "使用astype方法可以对数组的元素类型进行转换"
   ]
  },
  {
   "cell_type": "code",
   "execution_count": 16,
   "id": "f8fe5521",
   "metadata": {},
   "outputs": [
    {
     "data": {
      "text/plain": [
       "array(['1', '2', '3'], dtype='<U1')"
      ]
     },
     "execution_count": 16,
     "metadata": {},
     "output_type": "execute_result"
    },
    {
     "data": {
      "text/plain": [
       "array([1., 2., 3.])"
      ]
     },
     "execution_count": 16,
     "metadata": {},
     "output_type": "execute_result"
    }
   ],
   "source": [
    "a = c.astype(np.float64)\n",
    "c\n",
    "a"
   ]
  },
  {
   "cell_type": "markdown",
   "id": "fe45d3c3",
   "metadata": {},
   "source": [
    "### 自动生成数组\n",
    "NumPy提供了很多专门用于创建数组的函数"
   ]
  },
  {
   "cell_type": "markdown",
   "id": "1be8da5b",
   "metadata": {},
   "source": [
    "arange类似于内置函数range"
   ]
  },
  {
   "cell_type": "code",
   "execution_count": 17,
   "id": "e473a7f5",
   "metadata": {},
   "outputs": [
    {
     "data": {
      "text/plain": [
       "array([0, 2, 4, 6, 8])"
      ]
     },
     "execution_count": 17,
     "metadata": {},
     "output_type": "execute_result"
    }
   ],
   "source": [
    "np.arange(0, 10, 2)"
   ]
  },
  {
   "cell_type": "markdown",
   "id": "b9d102b8",
   "metadata": {},
   "source": [
    "linspace通过指定起始值、终值和元素个数来创建等差数列的一维数组"
   ]
  },
  {
   "cell_type": "code",
   "execution_count": 18,
   "id": "aa7a3ac9",
   "metadata": {},
   "outputs": [
    {
     "data": {
      "text/plain": [
       "array([ 0.,  4.,  8., 12., 16., 20.])"
      ]
     },
     "execution_count": 18,
     "metadata": {},
     "output_type": "execute_result"
    }
   ],
   "source": [
    "np.linspace(0, 20, 6)"
   ]
  },
  {
   "cell_type": "markdown",
   "id": "a3b7d327",
   "metadata": {},
   "source": [
    "可以通过endpoint参数指定是否包含终值"
   ]
  },
  {
   "cell_type": "code",
   "execution_count": 19,
   "id": "79924cac",
   "metadata": {},
   "outputs": [
    {
     "data": {
      "text/plain": [
       "array([ 0.        ,  3.33333333,  6.66666667, 10.        , 13.33333333,\n",
       "       16.66666667])"
      ]
     },
     "execution_count": 19,
     "metadata": {},
     "output_type": "execute_result"
    }
   ],
   "source": [
    "np.linspace(0, 20, 6, endpoint=False)"
   ]
  },
  {
   "cell_type": "markdown",
   "id": "d2c8f4d1",
   "metadata": {},
   "source": [
    "logspace()和linspace()类似，不过它所创建的数组是等比数列"
   ]
  },
  {
   "cell_type": "code",
   "execution_count": 20,
   "id": "ddedfbc2",
   "metadata": {},
   "outputs": [
    {
     "data": {
      "text/plain": [
       "array([  1.        ,   3.16227766,  10.        ,  31.6227766 ,\n",
       "       100.        ])"
      ]
     },
     "execution_count": 20,
     "metadata": {},
     "output_type": "execute_result"
    }
   ],
   "source": [
    "np.logspace(0, 2, 5)"
   ]
  },
  {
   "cell_type": "markdown",
   "id": "9803589e",
   "metadata": {},
   "source": [
    "默认是基数是10，也就是0 到100的5个等比数列。可以通过base改变基数"
   ]
  },
  {
   "cell_type": "code",
   "execution_count": 21,
   "id": "437aaf37",
   "metadata": {},
   "outputs": [
    {
     "data": {
      "text/plain": [
       "array([1.        , 1.05946309, 1.12246205, 1.18920712, 1.25992105,\n",
       "       1.33483985, 1.41421356, 1.49830708, 1.58740105, 1.68179283,\n",
       "       1.78179744, 1.88774863])"
      ]
     },
     "execution_count": 21,
     "metadata": {},
     "output_type": "execute_result"
    }
   ],
   "source": [
    "np.logspace(0, 1, 12, base=2, endpoint=False)"
   ]
  },
  {
   "cell_type": "markdown",
   "id": "3c0d9fd9",
   "metadata": {},
   "source": [
    "zeros、ones、empty可以创建指定形状和类型的数组"
   ]
  },
  {
   "cell_type": "code",
   "execution_count": 22,
   "id": "ce113051",
   "metadata": {},
   "outputs": [
    {
     "data": {
      "text/plain": [
       "array([[0, 0, 0],\n",
       "       [0, 0, 0]])"
      ]
     },
     "execution_count": 22,
     "metadata": {},
     "output_type": "execute_result"
    }
   ],
   "source": [
    "np.zeros((2,3), dtype=int)"
   ]
  },
  {
   "cell_type": "code",
   "execution_count": 23,
   "id": "a0b7b053",
   "metadata": {},
   "outputs": [
    {
     "data": {
      "text/plain": [
       "array([1., 1., 1., 1.], dtype=float32)"
      ]
     },
     "execution_count": 23,
     "metadata": {},
     "output_type": "execute_result"
    }
   ],
   "source": [
    "np.ones(4, dtype=np.float32)"
   ]
  },
  {
   "cell_type": "code",
   "execution_count": 24,
   "id": "6fd43fe1",
   "metadata": {},
   "outputs": [
    {
     "data": {
      "text/plain": [
       "array([[2.12199579e-314, 9.62370625e+242],\n",
       "       [6.10665138e-321, 3.79442416e-321]])"
      ]
     },
     "execution_count": 24,
     "metadata": {},
     "output_type": "execute_result"
    }
   ],
   "source": [
    "np.empty((2,2))"
   ]
  },
  {
   "cell_type": "markdown",
   "id": "4b9d3614",
   "metadata": {},
   "source": [
    "empty只分配数组所使用的内存，不对数组元素进行初始化操作，因此它的运行速度是最快的。而zeros将数组元素初始化为0, ones将数组元素初始化为1。"
   ]
  },
  {
   "cell_type": "markdown",
   "id": "304c58de",
   "metadata": {},
   "source": [
    "full()将数组元素初始化为指定的值"
   ]
  },
  {
   "cell_type": "code",
   "execution_count": 25,
   "id": "607b2812",
   "metadata": {},
   "outputs": [
    {
     "data": {
      "text/plain": [
       "array([[3.14159265, 3.14159265],\n",
       "       [3.14159265, 3.14159265]])"
      ]
     },
     "execution_count": 25,
     "metadata": {},
     "output_type": "execute_result"
    }
   ],
   "source": [
    "np.full((2,2), np.pi)"
   ]
  },
  {
   "cell_type": "markdown",
   "id": "2dfcda82",
   "metadata": {},
   "source": [
    "此外，zeros_like()、ones_like()、empty_like()、full_like()等函数创建与其他数组的形状和类型相同的数组。"
   ]
  },
  {
   "cell_type": "code",
   "execution_count": 26,
   "id": "4d3c177b",
   "metadata": {},
   "outputs": [
    {
     "data": {
      "text/plain": [
       "array([0., 0., 0.])"
      ]
     },
     "execution_count": 26,
     "metadata": {},
     "output_type": "execute_result"
    }
   ],
   "source": [
    "np.zeros_like(a)"
   ]
  },
  {
   "cell_type": "code",
   "execution_count": 27,
   "id": "98426655",
   "metadata": {},
   "outputs": [
    {
     "data": {
      "text/plain": [
       "array([0., 0., 0.])"
      ]
     },
     "execution_count": 27,
     "metadata": {},
     "output_type": "execute_result"
    }
   ],
   "source": [
    "np.zeros(a.shape, a.dtype)"
   ]
  },
  {
   "cell_type": "markdown",
   "id": "7b61ae15",
   "metadata": {},
   "source": [
    "frombuffer()、fromstring()、fromfile()等函数可以从字节序列或文件创建数组。但这几个函数不常用"
   ]
  },
  {
   "cell_type": "code",
   "execution_count": 28,
   "id": "bcca8f76",
   "metadata": {},
   "outputs": [
    {
     "name": "stderr",
     "output_type": "stream",
     "text": [
      "D:\\MyConfiguration\\shucheng.wang\\AppData\\Local\\Temp/ipykernel_1420/2305350795.py:1: DeprecationWarning: The binary mode of fromstring is deprecated, as it behaves surprisingly on unicode inputs. Use frombuffer instead\n",
      "  np.fromstring(\"abcdefgh\", dtype=np.int8)\n"
     ]
    },
    {
     "data": {
      "text/plain": [
       "array([ 97,  98,  99, 100, 101, 102, 103, 104], dtype=int8)"
      ]
     },
     "execution_count": 28,
     "metadata": {},
     "output_type": "execute_result"
    }
   ],
   "source": [
    "np.fromstring(\"abcdefgh\", dtype=np.int8)"
   ]
  },
  {
   "cell_type": "code",
   "execution_count": 29,
   "id": "5e343428",
   "metadata": {},
   "outputs": [
    {
     "name": "stderr",
     "output_type": "stream",
     "text": [
      "D:\\MyConfiguration\\shucheng.wang\\AppData\\Local\\Temp/ipykernel_1420/4284025837.py:1: DeprecationWarning: The binary mode of fromstring is deprecated, as it behaves surprisingly on unicode inputs. Use frombuffer instead\n",
      "  np.fromstring(\"abcdefgh\", dtype=np.int16)\n"
     ]
    },
    {
     "data": {
      "text/plain": [
       "array([25185, 25699, 26213, 26727], dtype=int16)"
      ]
     },
     "execution_count": 29,
     "metadata": {},
     "output_type": "execute_result"
    }
   ],
   "source": [
    "np.fromstring(\"abcdefgh\", dtype=np.int16)"
   ]
  },
  {
   "cell_type": "markdown",
   "id": "7270698b",
   "metadata": {},
   "source": [
    "Python的字符串实际上是一个字节序列，每个字符占一个字节。因此如果从字符串创建一个8位的整数数组，所得到的数组正好就是字符串中每个字符的ASCII编码。所以fromstring只能转成有限的类型数据。"
   ]
  },
  {
   "cell_type": "markdown",
   "id": "cccedfb0",
   "metadata": {},
   "source": [
    "fromfunction()通过此函数创建数组"
   ]
  },
  {
   "cell_type": "code",
   "execution_count": 30,
   "id": "a18db63c",
   "metadata": {},
   "outputs": [
    {
     "data": {
      "text/plain": [
       "array([0., 1., 2., 3., 0., 1., 2., 3., 0., 1.])"
      ]
     },
     "execution_count": 30,
     "metadata": {},
     "output_type": "execute_result"
    }
   ],
   "source": [
    "def func(i):\n",
    "    return i % 4\n",
    "np.fromfunction(func, (10,))"
   ]
  },
  {
   "cell_type": "markdown",
   "id": "9fe43eb2",
   "metadata": {},
   "source": [
    "fromfunction()的第一个参数是计算每个数组元素的函数，第二个参数指定数组的形状。实际上是根据数组下标使用函数生成数组"
   ]
  },
  {
   "cell_type": "code",
   "execution_count": 31,
   "id": "4dd64f65",
   "metadata": {},
   "outputs": [
    {
     "data": {
      "text/plain": [
       "array([[1., 2., 3.],\n",
       "       [2., 4., 6.],\n",
       "       [3., 6., 9.]])"
      ]
     },
     "execution_count": 31,
     "metadata": {},
     "output_type": "execute_result"
    }
   ],
   "source": [
    "def func2(i, j):\n",
    "    return (i + 1) * (j + 1) \n",
    "np.fromfunction(func2, (3,3))"
   ]
  },
  {
   "cell_type": "markdown",
   "id": "de2881dd",
   "metadata": {},
   "source": [
    "### 存取元素"
   ]
  },
  {
   "cell_type": "markdown",
   "id": "75283e06",
   "metadata": {},
   "source": [
    "####  切片存取"
   ]
  },
  {
   "cell_type": "code",
   "execution_count": 32,
   "id": "2c8c0abf",
   "metadata": {},
   "outputs": [
    {
     "data": {
      "text/plain": [
       "array([0, 1, 2, 3, 4, 5, 6, 7, 8, 9])"
      ]
     },
     "execution_count": 32,
     "metadata": {},
     "output_type": "execute_result"
    }
   ],
   "source": [
    "a = np.arange(10)\n",
    "a"
   ]
  },
  {
   "cell_type": "code",
   "execution_count": 33,
   "id": "57dfdb79",
   "metadata": {},
   "outputs": [
    {
     "data": {
      "text/plain": [
       "5"
      ]
     },
     "execution_count": 33,
     "metadata": {},
     "output_type": "execute_result"
    },
    {
     "data": {
      "text/plain": [
       "array([3, 4, 5, 6, 7, 8])"
      ]
     },
     "execution_count": 33,
     "metadata": {},
     "output_type": "execute_result"
    },
    {
     "data": {
      "text/plain": [
       "array([9, 8, 7, 6, 5, 4, 3, 2, 1, 0])"
      ]
     },
     "execution_count": 33,
     "metadata": {},
     "output_type": "execute_result"
    }
   ],
   "source": [
    "a[5]\n",
    "a[3:-1]\n",
    "a[::-1]"
   ]
  },
  {
   "cell_type": "markdown",
   "id": "4d43d5ed",
   "metadata": {},
   "source": [
    "和list的切片用法一样"
   ]
  },
  {
   "cell_type": "code",
   "execution_count": 34,
   "id": "0d86e82c",
   "metadata": {},
   "outputs": [
    {
     "data": {
      "text/plain": [
       "array([  0, 100, 200,   3,   4,   5,   6,   7,   8,   9])"
      ]
     },
     "execution_count": 34,
     "metadata": {},
     "output_type": "execute_result"
    }
   ],
   "source": [
    "a[1:3]=100,200\n",
    "a"
   ]
  },
  {
   "cell_type": "markdown",
   "id": "5c508349",
   "metadata": {},
   "source": [
    "和列表不同的是，通过切片获取的新的数组是原始数组的一个视阁。它与原始数组共享同 一块数椐存储空间"
   ]
  },
  {
   "cell_type": "code",
   "execution_count": 35,
   "id": "b9e25109",
   "metadata": {},
   "outputs": [
    {
     "data": {
      "text/plain": [
       "array([  5,   6, 700,   8,   9])"
      ]
     },
     "execution_count": 35,
     "metadata": {},
     "output_type": "execute_result"
    },
    {
     "data": {
      "text/plain": [
       "array([  0, 100, 200,   3,   4,   5,   6, 700,   8,   9])"
      ]
     },
     "execution_count": 35,
     "metadata": {},
     "output_type": "execute_result"
    }
   ],
   "source": [
    "b = a[5:]\n",
    "b[2] = b[2]*100\n",
    "b\n",
    "a"
   ]
  },
  {
   "cell_type": "markdown",
   "id": "ae1c9285",
   "metadata": {},
   "source": [
    "除了使用切片存取元素之外，NumPy还提供了整数列表、整数数组和布尔数组等几种高级下标存取方法。"
   ]
  },
  {
   "cell_type": "markdown",
   "id": "5232d869",
   "metadata": {},
   "source": [
    "####  整数列表存取"
   ]
  },
  {
   "cell_type": "markdown",
   "id": "508f3818",
   "metadata": {},
   "source": [
    "当使用整数列表对数组元素进行存取时，将使用列表中的每个元素作为下标。使用列表作为下标得到的数组不和原始数组共享数据"
   ]
  },
  {
   "cell_type": "code",
   "execution_count": 36,
   "id": "3bca1e94",
   "metadata": {},
   "outputs": [
    {
     "data": {
      "text/plain": [
       "array([0, 1, 2, 3, 4, 5, 6, 7, 8, 9])"
      ]
     },
     "execution_count": 36,
     "metadata": {},
     "output_type": "execute_result"
    },
    {
     "data": {
      "text/plain": [
       "array([3, 2, 9, 8])"
      ]
     },
     "execution_count": 36,
     "metadata": {},
     "output_type": "execute_result"
    }
   ],
   "source": [
    "a = np.arange(10)\n",
    "b = a[[3,2,-1,8]]\n",
    "a\n",
    "b"
   ]
  },
  {
   "cell_type": "code",
   "execution_count": 37,
   "id": "882647f7",
   "metadata": {},
   "outputs": [
    {
     "data": {
      "text/plain": [
       "array([0, 1, 2, 3, 4, 5, 6, 7, 8, 9])"
      ]
     },
     "execution_count": 37,
     "metadata": {},
     "output_type": "execute_result"
    },
    {
     "data": {
      "text/plain": [
       "array([ 3, 20,  9,  8])"
      ]
     },
     "execution_count": 37,
     "metadata": {},
     "output_type": "execute_result"
    }
   ],
   "source": [
    "b[1]=20\n",
    "a\n",
    "b"
   ]
  },
  {
   "cell_type": "code",
   "execution_count": 38,
   "id": "a8792f1e",
   "metadata": {},
   "outputs": [
    {
     "data": {
      "text/plain": [
       "array([  0,   1,  20,  30,   4,   5,   6,   7,  80, -10])"
      ]
     },
     "execution_count": 38,
     "metadata": {},
     "output_type": "execute_result"
    }
   ],
   "source": [
    "a[[3,2,-1,8]] = 30, 20, -10, 80\n",
    "a"
   ]
  },
  {
   "cell_type": "markdown",
   "id": "200318c7",
   "metadata": {},
   "source": [
    "####  numpy整数数组存取"
   ]
  },
  {
   "cell_type": "markdown",
   "id": "abcf339e",
   "metadata": {},
   "source": [
    "当使用numpy整数数组作为数组下标时，将得到一个形状和下标数组相同的新数组，新数组的每个元素都是用下标数组中对应位置的值作为下标从原数组获得的值。"
   ]
  },
  {
   "cell_type": "code",
   "execution_count": 39,
   "id": "910f2982",
   "metadata": {},
   "outputs": [
    {
     "data": {
      "text/plain": [
       "array([ 30,  20, -10,  80])"
      ]
     },
     "execution_count": 39,
     "metadata": {},
     "output_type": "execute_result"
    }
   ],
   "source": [
    "b = a[np.array([3,2,-1,8])]\n",
    "b"
   ]
  },
  {
   "cell_type": "markdown",
   "id": "3c559e15",
   "metadata": {},
   "source": [
    "numpy整数数组下标也可以是多维数组"
   ]
  },
  {
   "cell_type": "code",
   "execution_count": 40,
   "id": "8d653007",
   "metadata": {},
   "outputs": [
    {
     "data": {
      "text/plain": [
       "array([[ 30,  20, -10,  80],\n",
       "       [-10,  80,   7,   6],\n",
       "       [ 80,   7,   6,   5]])"
      ]
     },
     "execution_count": 40,
     "metadata": {},
     "output_type": "execute_result"
    }
   ],
   "source": [
    "a[np.array([[3,2,-1,8],[-1,-2,-3,-4],[-2,-3,-4,-5]])]"
   ]
  },
  {
   "cell_type": "code",
   "execution_count": 41,
   "id": "e019b86c",
   "metadata": {},
   "outputs": [
    {
     "data": {
      "text/plain": [
       "array([  0,  10,  20,  30,   4,   5,   6,   7,  80, -10])"
      ]
     },
     "execution_count": 41,
     "metadata": {},
     "output_type": "execute_result"
    }
   ],
   "source": [
    "a[np.array([1,2,8])] = 10,20,80\n",
    "a"
   ]
  },
  {
   "cell_type": "markdown",
   "id": "efa7c512",
   "metadata": {},
   "source": [
    "#### 布尔数组存取\n",
    "布尔数组存取元素时 获得的是与布尔数组中True对应的值"
   ]
  },
  {
   "cell_type": "code",
   "execution_count": 43,
   "id": "32dd57b8",
   "metadata": {},
   "outputs": [
    {
     "data": {
      "text/plain": [
       "array([0, 3])"
      ]
     },
     "execution_count": 43,
     "metadata": {},
     "output_type": "execute_result"
    }
   ],
   "source": [
    "a = np.arange(5)\n",
    "a[np.array([True,False,False,True,False])]"
   ]
  },
  {
   "cell_type": "markdown",
   "id": "6f75dff9",
   "metadata": {},
   "source": [
    "使用布尔数组作为下标获得的数组也不和原始数组共享数据内存"
   ]
  },
  {
   "cell_type": "code",
   "execution_count": 44,
   "id": "e1fc0dc2",
   "metadata": {},
   "outputs": [
    {
     "data": {
      "text/plain": [
       "array([ 0, 10,  2, 30,  4])"
      ]
     },
     "execution_count": 44,
     "metadata": {},
     "output_type": "execute_result"
    }
   ],
   "source": [
    "a[np.array([False,True,False,True,False])]=10,30\n",
    "a"
   ]
  },
  {
   "cell_type": "markdown",
   "id": "6e25d831",
   "metadata": {},
   "source": [
    "当使用的是布尔列表，也是按照布尔数组的方式存取。"
   ]
  },
  {
   "cell_type": "code",
   "execution_count": 46,
   "id": "dcaf15a5",
   "metadata": {},
   "outputs": [
    {
     "data": {
      "text/plain": [
       "array([ 0, 30])"
      ]
     },
     "execution_count": 46,
     "metadata": {},
     "output_type": "execute_result"
    }
   ],
   "source": [
    "a[[True,False,False,True,False]]"
   ]
  },
  {
   "cell_type": "markdown",
   "id": "2adf0984",
   "metadata": {},
   "source": [
    "### 多维数组\n",
    "多维数组本质上和一维数组一样，每个轴都是一维数组。因为多维数组有多个轴，所以它的下标需要用多个值来表示。"
   ]
  },
  {
   "cell_type": "code",
   "execution_count": 47,
   "id": "d6f4780f",
   "metadata": {},
   "outputs": [
    {
     "data": {
      "text/plain": [
       "array([[ 0,  1,  2,  3,  4,  5],\n",
       "       [ 6,  7,  8,  9, 10, 11],\n",
       "       [12, 13, 14, 15, 16, 17],\n",
       "       [18, 19, 20, 21, 22, 23],\n",
       "       [24, 25, 26, 27, 28, 29],\n",
       "       [30, 31, 32, 33, 34, 35]])"
      ]
     },
     "execution_count": 47,
     "metadata": {},
     "output_type": "execute_result"
    }
   ],
   "source": [
    "a = np.array(range(36)).reshape(6,6)\n",
    "a"
   ]
  },
  {
   "cell_type": "markdown",
   "id": "06e1fad9",
   "metadata": {},
   "source": [
    "#### 切片存取\n",
    "和一维数组相同，每一个轴都可以使用切片\n",
    "<img src=\"img/2-1.png\">"
   ]
  },
  {
   "cell_type": "markdown",
   "id": "74706b67",
   "metadata": {},
   "source": [
    "切片得到的结果与原数组共享内存空间"
   ]
  },
  {
   "cell_type": "code",
   "execution_count": 48,
   "id": "3f2b1293",
   "metadata": {},
   "outputs": [
    {
     "data": {
      "text/plain": [
       "array([-9, 10])"
      ]
     },
     "execution_count": 48,
     "metadata": {},
     "output_type": "execute_result"
    }
   ],
   "source": [
    "b = a[1, 3:5]\n",
    "b[0] = -b[0]\n",
    "a[1, 3:5]"
   ]
  },
  {
   "cell_type": "code",
   "execution_count": 49,
   "id": "ae8b4a7f",
   "metadata": {},
   "outputs": [
    {
     "data": {
      "text/plain": [
       "array([[  0,   1,   2,   3,   4,   5],\n",
       "       [  6,   7,   8,  -9,  10,  11],\n",
       "       [ 12,  13,  14,  15,  16,  17],\n",
       "       [ 18,  19,  20,  21,  22,  23],\n",
       "       [ 24,  25,  26, 100, 200,  29],\n",
       "       [ 30,  31,  32, 300, 400,  35]])"
      ]
     },
     "execution_count": 49,
     "metadata": {},
     "output_type": "execute_result"
    }
   ],
   "source": [
    "a[4:, 3:5] = [[100, 200], [300, 400]]\n",
    "a"
   ]
  },
  {
   "cell_type": "markdown",
   "id": "33b27b16",
   "metadata": {},
   "source": [
    "#### 切片\n",
    "Python中使用slice()创建切片对象"
   ]
  },
  {
   "cell_type": "code",
   "execution_count": 50,
   "id": "1bb23036",
   "metadata": {},
   "outputs": [
    {
     "data": {
      "text/plain": [
       "array([[ 1],\n",
       "       [13],\n",
       "       [25]])"
      ]
     },
     "execution_count": 50,
     "metadata": {},
     "output_type": "execute_result"
    }
   ],
   "source": [
    "idx = slice(None, None, 2), slice(1, 2, None)\n",
    "a[idx]"
   ]
  },
  {
   "cell_type": "markdown",
   "id": "492e58da",
   "metadata": {},
   "source": [
    "numpy中使用s_对象创建切片对象"
   ]
  },
  {
   "cell_type": "code",
   "execution_count": 51,
   "id": "ed0eaae3",
   "metadata": {},
   "outputs": [
    {
     "data": {
      "text/plain": [
       "(slice(None, None, 2), slice(1, None, None))"
      ]
     },
     "execution_count": 51,
     "metadata": {},
     "output_type": "execute_result"
    }
   ],
   "source": [
    "idx = np.s_[::2, 1::]\n",
    "idx"
   ]
  },
  {
   "cell_type": "code",
   "execution_count": 52,
   "id": "eb6ad9b3",
   "metadata": {},
   "outputs": [
    {
     "data": {
      "text/plain": [
       "array([[  1,   2,   3,   4,   5],\n",
       "       [ 13,  14,  15,  16,  17],\n",
       "       [ 25,  26, 100, 200,  29]])"
      ]
     },
     "execution_count": 52,
     "metadata": {},
     "output_type": "execute_result"
    }
   ],
   "source": [
    "a[idx]"
   ]
  },
  {
   "cell_type": "markdown",
   "id": "27d4fe09",
   "metadata": {},
   "source": [
    "#### 其他方式存取\n",
    "和一维数组相同，多维数组也可以使用整数列表、整数数组和布尔数组存取元素，而且所获得的数椐是原始数据的副本，因此修改结果数组不会改变原始数组。"
   ]
  },
  {
   "cell_type": "code",
   "execution_count": 54,
   "id": "09729032",
   "metadata": {},
   "outputs": [
    {
     "data": {
      "text/plain": [
       "array([ 1,  8, 15, 22])"
      ]
     },
     "execution_count": 54,
     "metadata": {},
     "output_type": "execute_result"
    }
   ],
   "source": [
    "a[(0,1,2,3),(1,2,3,4)]"
   ]
  },
  {
   "cell_type": "markdown",
   "id": "cfe0cf6f",
   "metadata": {},
   "source": [
    "从两个序列的对应位置取出两个整数组成下标, 于是得到的结果是：a[0,1]、a[1,2]、a[2,3]、a[3,4]。"
   ]
  },
  {
   "cell_type": "code",
   "execution_count": 55,
   "id": "18ce5052",
   "metadata": {},
   "outputs": [
    {
     "data": {
      "text/plain": [
       "array([[18, 20, 23],\n",
       "       [24, 26, 29],\n",
       "       [30, 32, 35]])"
      ]
     },
     "execution_count": 55,
     "metadata": {},
     "output_type": "execute_result"
    }
   ],
   "source": [
    "a[3:, [0,2,5]]"
   ]
  },
  {
   "cell_type": "code",
   "execution_count": 56,
   "id": "a5c58475",
   "metadata": {},
   "outputs": [
    {
     "data": {
      "text/plain": [
       "array([7, 1, 7, 1, 1, 7])"
      ]
     },
     "execution_count": 56,
     "metadata": {},
     "output_type": "execute_result"
    }
   ],
   "source": [
    "mask = np.array([1,0,1,0,0,1])\n",
    "a[mask, 1]"
   ]
  },
  {
   "cell_type": "code",
   "execution_count": 57,
   "id": "2bb233a7",
   "metadata": {},
   "outputs": [
    {
     "data": {
      "text/plain": [
       "array([ 1, 13, 31])"
      ]
     },
     "execution_count": 57,
     "metadata": {},
     "output_type": "execute_result"
    }
   ],
   "source": [
    "mask1 = mask.astype(bool)\n",
    "a[mask1, 1]"
   ]
  },
  {
   "cell_type": "code",
   "execution_count": 59,
   "id": "0e756f88",
   "metadata": {},
   "outputs": [
    {
     "data": {
      "text/plain": [
       "array([[ 6,  7,  8, -9, 10, 11],\n",
       "       [12, 13, 14, 15, 16, 17]])"
      ]
     },
     "execution_count": 59,
     "metadata": {},
     "output_type": "execute_result"
    },
    {
     "data": {
      "text/plain": [
       "array([[ 6,  7,  8, -9, 10, 11],\n",
       "       [12, 13, 14, 15, 16, 17]])"
      ]
     },
     "execution_count": 59,
     "metadata": {},
     "output_type": "execute_result"
    }
   ],
   "source": [
    "a[[1,2]]\n",
    "a[[1,2],:]"
   ]
  },
  {
   "cell_type": "markdown",
   "id": "778195cf",
   "metadata": {},
   "source": [
    "当下标的长度小于数组的维数时，剩余的各轴所对应的下标是“:”"
   ]
  },
  {
   "cell_type": "code",
   "execution_count": 61,
   "id": "572ff4d8",
   "metadata": {},
   "outputs": [
    {
     "data": {
      "text/plain": [
       "array([[ 5, 10],\n",
       "       [15, 20]])"
      ]
     },
     "execution_count": 61,
     "metadata": {},
     "output_type": "execute_result"
    },
    {
     "data": {
      "text/plain": [
       "array([[ 5, 10],\n",
       "       [15, 20]])"
      ]
     },
     "execution_count": 61,
     "metadata": {},
     "output_type": "execute_result"
    }
   ],
   "source": [
    "x = np.array([[0,1],[2,3]])\n",
    "y = np.array([[-1,-2],[-3,-4]])\n",
    "a[x,y]\n",
    "np.array([[a[0,-1],a[1,-2]], [a[2,-3],a[3,-4]]])"
   ]
  },
  {
   "cell_type": "markdown",
   "id": "bed78cb5",
   "metadata": {},
   "source": [
    "当所有轴都用形状相同的整数数组作为下标时，得到的数组和下标数组的形状相同。"
   ]
  },
  {
   "cell_type": "code",
   "execution_count": 62,
   "id": "e56bc18f",
   "metadata": {},
   "outputs": [
    {
     "data": {
      "text/plain": [
       "array([[[ 0,  1,  2,  3,  4,  5],\n",
       "        [ 6,  7,  8, -9, 10, 11]],\n",
       "\n",
       "       [[12, 13, 14, 15, 16, 17],\n",
       "        [18, 19, 20, 21, 22, 23]]])"
      ]
     },
     "execution_count": 62,
     "metadata": {},
     "output_type": "execute_result"
    },
    {
     "data": {
      "text/plain": [
       "array([[[ 0,  1,  2,  3,  4,  5],\n",
       "        [ 6,  7,  8, -9, 10, 11]],\n",
       "\n",
       "       [[12, 13, 14, 15, 16, 17],\n",
       "        [18, 19, 20, 21, 22, 23]]])"
      ]
     },
     "execution_count": 62,
     "metadata": {},
     "output_type": "execute_result"
    }
   ],
   "source": [
    "a[x]\n",
    "np.array([[a[0,:],a[1,:]], [a[2,:],a[3,:]]])"
   ]
  },
  {
   "cell_type": "markdown",
   "id": "41485edb",
   "metadata": {},
   "source": [
    "### 结构数组\n",
    "这个不用了解，只要熟悉后面的pandas，比这个结构数组方便多了"
   ]
  },
  {
   "cell_type": "markdown",
   "id": "3a54da1e",
   "metadata": {},
   "source": [
    "### 内存结构\n",
    "下面让我们看看数组对象是如何在内存中存储的\n",
    "<img src=\"img/2-2.png\">"
   ]
  },
  {
   "cell_type": "markdown",
   "id": "fad812d7",
   "metadata": {},
   "source": [
    "数据存储区域保存着数组中所有元素的二进制数据，dtype对象则知道如何将元素的二进制数据转换为可用的值。数组的维数和形状等信息都保存在ndarray数组对象的数据结构中。"
   ]
  },
  {
   "cell_type": "markdown",
   "id": "b9c88000",
   "metadata": {},
   "source": [
    "数组对象使用strides属性保存每个轴上相邻两个元素的地址差，即当某个轴的下标增加1时，数据存储区中的指针所増加的字节数。"
   ]
  },
  {
   "cell_type": "code",
   "execution_count": 65,
   "id": "9b28b1ac",
   "metadata": {},
   "outputs": [
    {
     "data": {
      "text/plain": [
       "array([[0., 1., 2.],\n",
       "       [3., 4., 5.],\n",
       "       [6., 7., 8.]], dtype=float32)"
      ]
     },
     "execution_count": 65,
     "metadata": {},
     "output_type": "execute_result"
    },
    {
     "data": {
      "text/plain": [
       "array([[0., 2.],\n",
       "       [6., 8.]], dtype=float32)"
      ]
     },
     "execution_count": 65,
     "metadata": {},
     "output_type": "execute_result"
    }
   ],
   "source": [
    "a = np.array([[0,1,2],[3,4,5],[6,7,8]], dtype=np.float32)\n",
    "b = a[::2, ::2]\n",
    "a\n",
    "b"
   ]
  },
  {
   "cell_type": "code",
   "execution_count": 66,
   "id": "1b6aaf13",
   "metadata": {},
   "outputs": [
    {
     "data": {
      "text/plain": [
       "(12, 4)"
      ]
     },
     "execution_count": 66,
     "metadata": {},
     "output_type": "execute_result"
    },
    {
     "data": {
      "text/plain": [
       "(24, 8)"
      ]
     },
     "execution_count": 66,
     "metadata": {},
     "output_type": "execute_result"
    }
   ],
   "source": [
    "a.strides\n",
    "b.strides"
   ]
  },
  {
   "cell_type": "markdown",
   "id": "098b497a",
   "metadata": {},
   "source": [
    "由于数组b和数组a共享数据存储区，而数组b中的第0轴和第1轴都是从a中隔一个元素取一个，因此数组b的strides变成了(24,8),正好都是数组a的两倍"
   ]
  },
  {
   "cell_type": "markdown",
   "id": "4b9b4073",
   "metadata": {},
   "source": [
    "元素在数据存储区中的排列格式有两种：C语言格式和Fortran语言格式。在C语言中，多维数组的第0轴是最上位的，即第0轴的下标增加1时，元素的地址增加的字节数最多，而Fortran语言格式则相反。  \n",
    "在NumPy中默认以C语言格式存储数据，如果希望改为Fortran格式，只需要在创建数组时，设置order参数为F:"
   ]
  },
  {
   "cell_type": "code",
   "execution_count": 69,
   "id": "7428859c",
   "metadata": {},
   "outputs": [
    {
     "data": {
      "text/plain": [
       "(4, 12)"
      ]
     },
     "execution_count": 69,
     "metadata": {},
     "output_type": "execute_result"
    }
   ],
   "source": [
    "c = np.array([[0,1,2], [3,4,5], [6,7,8]], dtype=np.float32, order=\"F\")\n",
    "c.strides"
   ]
  },
  {
   "cell_type": "markdown",
   "id": "dc14c334",
   "metadata": {},
   "source": [
    "了解了数组的内存结构，就可以解释使用下标取得数据时的复制和引用问题。\n",
    "+ 当使用切片时，所取得的数据在数据存储区域中是等间隔分布。只需要修改数据结构中的dim count、dimensions、strides等属性以及指向数据存储区域的指针,就可以获得数据。\n",
    "+ 当使用整数序列、整数数组和布尔数组时，不能保证所取得的数椐在数据存储区域中是等间隔的，因此无法和原始数组共享数裾，只能对数据进行复制。"
   ]
  },
  {
   "cell_type": "markdown",
   "id": "1e48bac6",
   "metadata": {},
   "source": [
    "数组的flags属性描述了数据存储区域的一些属性"
   ]
  },
  {
   "cell_type": "code",
   "execution_count": 70,
   "id": "96773b46",
   "metadata": {},
   "outputs": [
    {
     "data": {
      "text/plain": [
       "  C_CONTIGUOUS : False\n",
       "  F_CONTIGUOUS : True\n",
       "  OWNDATA : True\n",
       "  WRITEABLE : True\n",
       "  ALIGNED : True\n",
       "  WRITEBACKIFCOPY : False\n",
       "  UPDATEIFCOPY : False"
      ]
     },
     "execution_count": 70,
     "metadata": {},
     "output_type": "execute_result"
    }
   ],
   "source": [
    "c.flags"
   ]
  },
  {
   "cell_type": "markdown",
   "id": "9e33008a",
   "metadata": {},
   "source": [
    "+ C_CONTIGUOUS：数据存储区域是否是C语言格式的连续区域\n",
    "+ F_CONTIGUOUS：数据存储区域适否是Fortran语言格式的连续区域\n",
    "+ OWNDATA： 数组是否拥有此数据存储区域，当一个数组是其他数组的视图时，该值为False。"
   ]
  },
  {
   "cell_type": "code",
   "execution_count": 71,
   "id": "6c46ce26",
   "metadata": {},
   "outputs": [
    {
     "data": {
      "text/plain": [
       "  C_CONTIGUOUS : True\n",
       "  F_CONTIGUOUS : False\n",
       "  OWNDATA : False\n",
       "  WRITEABLE : True\n",
       "  ALIGNED : True\n",
       "  WRITEBACKIFCOPY : False\n",
       "  UPDATEIFCOPY : False"
      ]
     },
     "execution_count": 71,
     "metadata": {},
     "output_type": "execute_result"
    }
   ],
   "source": [
    "c.T.flags"
   ]
  },
  {
   "cell_type": "code",
   "execution_count": 72,
   "id": "a66fc6d7",
   "metadata": {},
   "outputs": [
    {
     "data": {
      "text/plain": [
       "  C_CONTIGUOUS : False\n",
       "  F_CONTIGUOUS : False\n",
       "  OWNDATA : False\n",
       "  WRITEABLE : True\n",
       "  ALIGNED : True\n",
       "  WRITEBACKIFCOPY : False\n",
       "  UPDATEIFCOPY : False"
      ]
     },
     "execution_count": 72,
     "metadata": {},
     "output_type": "execute_result"
    }
   ],
   "source": [
    "c[::2, ::2].flags"
   ]
  },
  {
   "cell_type": "markdown",
   "id": "9da2ca5f",
   "metadata": {},
   "source": [
    "## ufunc 函数\n",
    "这是一种能对数组的每个元素进行运算的函数"
   ]
  },
  {
   "cell_type": "code",
   "execution_count": 3,
   "id": "8e3b943d",
   "metadata": {},
   "outputs": [
    {
     "data": {
      "text/plain": [
       "array([ 0.00000000e+00,  6.42787610e-01,  9.84807753e-01,  8.66025404e-01,\n",
       "        3.42020143e-01, -3.42020143e-01, -8.66025404e-01, -9.84807753e-01,\n",
       "       -6.42787610e-01, -2.44929360e-16])"
      ]
     },
     "execution_count": 3,
     "metadata": {},
     "output_type": "execute_result"
    }
   ],
   "source": [
    "a = np.linspace(0, 2*np.pi, 10)\n",
    "b = np.sin(a)\n",
    "b"
   ]
  },
  {
   "cell_type": "markdown",
   "id": "c38d1af7",
   "metadata": {},
   "source": [
    "np.sin()是一个ufunc函数，因此在其内部对数组x的每个元素进行循环计算，它的速度要比math.sin()快多了，因为NumPy内置的许多ufunc函数都是用C语言实现的。但是就单独计算某个数字而言，math.sin的速度很快。"
   ]
  },
  {
   "cell_type": "code",
   "execution_count": 4,
   "id": "19088037",
   "metadata": {},
   "outputs": [],
   "source": [
    "import math"
   ]
  },
  {
   "cell_type": "code",
   "execution_count": 6,
   "id": "98d88110",
   "metadata": {},
   "outputs": [
    {
     "name": "stdout",
     "output_type": "stream",
     "text": [
      "0.479425538604203 <class 'float'>\n",
      "0.479425538604203 <class 'numpy.float64'>\n"
     ]
    }
   ],
   "source": [
    "x = math.sin(0.5)\n",
    "y = np.sin(0.5)\n",
    "print(x, type(x))\n",
    "print(y, type(y))"
   ]
  },
  {
   "cell_type": "markdown",
   "id": "40239d35",
   "metadata": {},
   "source": [
    "np.sin()的返回值类型和math.sin()的不同，将其转换为Python的标准类型还需要花费额外的时间。为了解决这个问题，数组提供了item()方法。"
   ]
  },
  {
   "cell_type": "code",
   "execution_count": 7,
   "id": "3e039bf5",
   "metadata": {},
   "outputs": [
    {
     "data": {
      "text/plain": [
       "numpy.float64"
      ]
     },
     "execution_count": 7,
     "metadata": {},
     "output_type": "execute_result"
    },
    {
     "data": {
      "text/plain": [
       "float"
      ]
     },
     "execution_count": 7,
     "metadata": {},
     "output_type": "execute_result"
    }
   ],
   "source": [
    "type(b[1])\n",
    "type(b.item(1))"
   ]
  },
  {
   "cell_type": "markdown",
   "id": "1c7bc92c",
   "metadata": {},
   "source": [
    "### 四则运算"
   ]
  },
  {
   "cell_type": "markdown",
   "id": "7e66e9fc",
   "metadata": {},
   "source": [
    "add()返回一个数组，它的每个元素都是两个参数数组的对应元素之和。"
   ]
  },
  {
   "cell_type": "code",
   "execution_count": 10,
   "id": "6d8f0e6c",
   "metadata": {},
   "outputs": [
    {
     "data": {
      "text/plain": [
       "array([0, 1, 2, 3])"
      ]
     },
     "execution_count": 10,
     "metadata": {},
     "output_type": "execute_result"
    },
    {
     "data": {
      "text/plain": [
       "array([1, 2, 3, 4])"
      ]
     },
     "execution_count": 10,
     "metadata": {},
     "output_type": "execute_result"
    },
    {
     "data": {
      "text/plain": [
       "array([1, 3, 5, 7])"
      ]
     },
     "execution_count": 10,
     "metadata": {},
     "output_type": "execute_result"
    }
   ],
   "source": [
    "a = np.arange(0, 4)\n",
    "b = np.arange(1,5)\n",
    "a\n",
    "b\n",
    "np.add(a, b)"
   ]
  },
  {
   "cell_type": "markdown",
   "id": "ea1622f9",
   "metadata": {},
   "source": [
    "大部分ufunc函数都可以指定out参数，指定输入的数组。"
   ]
  },
  {
   "cell_type": "code",
   "execution_count": 11,
   "id": "4c169e65",
   "metadata": {},
   "outputs": [
    {
     "data": {
      "text/plain": [
       "array([0, 1, 2, 3])"
      ]
     },
     "execution_count": 11,
     "metadata": {},
     "output_type": "execute_result"
    },
    {
     "data": {
      "text/plain": [
       "array([1, 3, 5, 7])"
      ]
     },
     "execution_count": 11,
     "metadata": {},
     "output_type": "execute_result"
    },
    {
     "data": {
      "text/plain": [
       "array([1, 3, 5, 7])"
      ]
     },
     "execution_count": 11,
     "metadata": {},
     "output_type": "execute_result"
    }
   ],
   "source": [
    "a\n",
    "np.add(a, b, out=a)\n",
    "a"
   ]
  },
  {
   "cell_type": "markdown",
   "id": "215927db",
   "metadata": {},
   "source": [
    "NumPy为数组定义了各种数学运算操作符：\n",
    "<img src=\"img/2-3.png\">"
   ]
  },
  {
   "cell_type": "markdown",
   "id": "818416cb",
   "metadata": {},
   "source": [
    "数组对象支持操作符，极大地简化了算式的编写，不过要注意如果算式很复杂，并且要运算的数组很大，将会因为产生大量的中间结果而降低程序的运算速度。  \n",
    "假设对a、b、c 三个数组采用算式x=a\\*b+c加以计算，那么它相当于\n",
    "```\n",
    "t = a*b\n",
    "x = t+c\n",
    "del t\n",
    "```\n",
    "需要产生一个临时数组t来保存乘法的运算结果。应改成：\n",
    "```\n",
    "x = a*b\n",
    "x += c\n",
    "```"
   ]
  },
  {
   "cell_type": "markdown",
   "id": "e6789e07",
   "metadata": {},
   "source": [
    "### 比较运算和布尔运算\n",
    "使用==、>等比较运算符对两个数组进行比较，将返回一个布尔数组，它的每个元素值都是两个数组对应元素的比较结果。"
   ]
  },
  {
   "cell_type": "code",
   "execution_count": 13,
   "id": "89aff108",
   "metadata": {},
   "outputs": [
    {
     "data": {
      "text/plain": [
       "array([ True, False, False])"
      ]
     },
     "execution_count": 13,
     "metadata": {},
     "output_type": "execute_result"
    }
   ],
   "source": [
    "np.array([1, 2, 3]) < np.array([3, 2, 1])"
   ]
  },
  {
   "cell_type": "markdown",
   "id": "a426b3bf",
   "metadata": {},
   "source": [
    "每个比较运算符也与一个ufunc函数对应:\n",
    "<img src=\"img/2-4.png\">"
   ]
  },
  {
   "cell_type": "markdown",
   "id": "da0ba961",
   "metadata": {},
   "source": [
    "由于Python中的布尔运算使用and、or和not等关键字，它们无法被重载，因此数组的布尔运算只能通过相应的ufunc函数进行:\n",
    "+ np.logical_and : 与运算\n",
    "+ np.logical_or :  或运算\n",
    "+ np.logical_not : 非运算\n",
    "+ np.logical_xor : 异或运算"
   ]
  },
  {
   "cell_type": "code",
   "execution_count": 15,
   "id": "b93a2282",
   "metadata": {},
   "outputs": [
    {
     "data": {
      "text/plain": [
       "array([False,  True,  True])"
      ]
     },
     "execution_count": 15,
     "metadata": {},
     "output_type": "execute_result"
    },
    {
     "data": {
      "text/plain": [
       "array([False,  True,  True])"
      ]
     },
     "execution_count": 15,
     "metadata": {},
     "output_type": "execute_result"
    }
   ],
   "source": [
    "a = np.array([1, 2, 3])\n",
    "b = np.array([3, 2, 1])\n",
    "a>=b\n",
    "np.logical_or(a>b, a==b)"
   ]
  },
  {
   "cell_type": "markdown",
   "id": "52402882",
   "metadata": {},
   "source": [
    "注意数组不能使用and，or 和 not等关键字，否则会报错"
   ]
  },
  {
   "cell_type": "code",
   "execution_count": 16,
   "id": "6b9cab0e",
   "metadata": {},
   "outputs": [
    {
     "ename": "ValueError",
     "evalue": "The truth value of an array with more than one element is ambiguous. Use a.any() or a.all()",
     "output_type": "error",
     "traceback": [
      "\u001b[1;31m---------------------------------------------------------------------------\u001b[0m",
      "\u001b[1;31mValueError\u001b[0m                                Traceback (most recent call last)",
      "\u001b[1;32m~\\AppData\\Local\\Temp/ipykernel_8264/2459988955.py\u001b[0m in \u001b[0;36m<module>\u001b[1;34m\u001b[0m\n\u001b[1;32m----> 1\u001b[1;33m \u001b[0ma\u001b[0m\u001b[1;33m>\u001b[0m\u001b[0mb\u001b[0m \u001b[1;32mand\u001b[0m \u001b[0ma\u001b[0m\u001b[1;33m==\u001b[0m\u001b[0mb\u001b[0m\u001b[1;33m\u001b[0m\u001b[1;33m\u001b[0m\u001b[0m\n\u001b[0m",
      "\u001b[1;31mValueError\u001b[0m: The truth value of an array with more than one element is ambiguous. Use a.any() or a.all()"
     ]
    }
   ],
   "source": [
    "a>b and a==b"
   ]
  },
  {
   "cell_type": "markdown",
   "id": "82630761",
   "metadata": {},
   "source": [
    "错误信息告诉我们可以使用数组的any()或all()方法:\n",
    "+ any: 只要数组中有一个元素值为True,就为True\n",
    "+ all: 只有数组中全部元素值为True,就为True"
   ]
  },
  {
   "cell_type": "code",
   "execution_count": 17,
   "id": "07f2c9b2",
   "metadata": {},
   "outputs": [
    {
     "data": {
      "text/plain": [
       "True"
      ]
     },
     "execution_count": 17,
     "metadata": {},
     "output_type": "execute_result"
    }
   ],
   "source": [
    "np.any(a==b)"
   ]
  },
  {
   "cell_type": "markdown",
   "id": "58da9bee",
   "metadata": {},
   "source": [
    "以 bitwise_开头的函数是位运算函数，包括 bitwise_and、bitwise_not、bitwise_or 和 bitwise_xor等。也可以使用&、〜、丨和^等操作符进行计算。"
   ]
  },
  {
   "cell_type": "code",
   "execution_count": 18,
   "id": "c002b1a5",
   "metadata": {},
   "outputs": [
    {
     "data": {
      "text/plain": [
       "array([False,  True,  True])"
      ]
     },
     "execution_count": 18,
     "metadata": {},
     "output_type": "execute_result"
    }
   ],
   "source": [
    "(a == b) | (a > b)"
   ]
  },
  {
   "cell_type": "code",
   "execution_count": 19,
   "id": "5f8db397",
   "metadata": {},
   "outputs": [
    {
     "data": {
      "text/plain": [
       "array([-1, -2, -3, -4, -5], dtype=int32)"
      ]
     },
     "execution_count": 19,
     "metadata": {},
     "output_type": "execute_result"
    }
   ],
   "source": [
    "~np.arange(5)"
   ]
  },
  {
   "cell_type": "markdown",
   "id": "7a343e9e",
   "metadata": {},
   "source": [
    "### 自定义ufunc函数\n",
    "可以用frompyfunc()将计算单个元素的函数转换成ufunc函数，可以用一个分段函数描述三角波:\n",
    "<img src=\"img/2-5.png\">"
   ]
  },
  {
   "cell_type": "code",
   "execution_count": 20,
   "id": "f6177a01",
   "metadata": {},
   "outputs": [],
   "source": [
    "def triangle_wave(x, c, c0, he):\n",
    "    x = x - int(x) #三角波的周期为1，因此只取x坐标的小数部分进行计算\n",
    "    if x >= c: r = 0.0\n",
    "    elif x < c0: r = x / c0 * he\n",
    "    else: r = (c-x) / (c-c0) * he\n",
    "    return r"
   ]
  },
  {
   "cell_type": "code",
   "execution_count": 17,
   "id": "a6449d22",
   "metadata": {},
   "outputs": [],
   "source": [
    "import matplotlib.pyplot as plt"
   ]
  },
  {
   "cell_type": "markdown",
   "id": "a035d964",
   "metadata": {},
   "source": [
    "首先使用列表表达式："
   ]
  },
  {
   "cell_type": "code",
   "execution_count": 22,
   "id": "54d21047",
   "metadata": {},
   "outputs": [
    {
     "data": {
      "text/plain": [
       "[<matplotlib.lines.Line2D at 0x1ee55e417c0>]"
      ]
     },
     "execution_count": 22,
     "metadata": {},
     "output_type": "execute_result"
    },
    {
     "data": {
      "image/png": "[encoded data removed]",
      "text/plain": [
       "<Figure size 432x288 with 1 Axes>"
      ]
     },
     "metadata": {
      "needs_background": "light"
     },
     "output_type": "display_data"
    }
   ],
   "source": [
    "%matplotlib inline\n",
    "x = np.linspace(0,2,2000)\n",
    "y = np.array([triangle_wave(t, 0.6, 0.4, 1.0) for t in x])\n",
    "plt.plot(x, y)\n",
    "plt.show()"
   ]
  },
  {
   "cell_type": "markdown",
   "id": "198d71f4",
   "metadata": {},
   "source": [
    "通过frompyfunc()可以将计算单个值的函数转换为能对数组的每个元素进行计算的ufunc函数, frompyfunc()接受三个参数：\n",
    "+ 函数\n",
    "+ 该函数入参个数\n",
    "+ 该函数返回值的个数"
   ]
  },
  {
   "cell_type": "code",
   "execution_count": 23,
   "id": "6bb7edca",
   "metadata": {},
   "outputs": [
    {
     "data": {
      "text/plain": [
       "[<matplotlib.lines.Line2D at 0x1ee55efeca0>]"
      ]
     },
     "execution_count": 23,
     "metadata": {},
     "output_type": "execute_result"
    },
    {
     "data": {
      "image/png": "[encoded data removed]",
      "text/plain": [
       "<Figure size 432x288 with 1 Axes>"
      ]
     },
     "metadata": {
      "needs_background": "light"
     },
     "output_type": "display_data"
    }
   ],
   "source": [
    "func = np.frompyfunc(triangle_wave, 4, 1)\n",
    "y2 = func(x, 0.6, 0.4, 1.0)\n",
    "plt.plot(x, y2)\n",
    "plt.show()"
   ]
  },
  {
   "cell_type": "markdown",
   "id": "922b9516",
   "metadata": {},
   "source": [
    "但是返回的数组的元素类型是object"
   ]
  },
  {
   "cell_type": "code",
   "execution_count": 24,
   "id": "1fd0fed3",
   "metadata": {},
   "outputs": [
    {
     "data": {
      "text/plain": [
       "dtype('O')"
      ]
     },
     "execution_count": 24,
     "metadata": {},
     "output_type": "execute_result"
    }
   ],
   "source": [
    "y2.dtype"
   ]
  },
  {
   "cell_type": "markdown",
   "id": "7dcbfea6",
   "metadata": {},
   "source": [
    "使用vectorize()也可以实现和frompyfunc()类似的功能，但它可以通过otypes参数指定返回的数组的元素类型。"
   ]
  },
  {
   "cell_type": "code",
   "execution_count": 27,
   "id": "3636e606",
   "metadata": {},
   "outputs": [
    {
     "data": {
      "text/plain": [
       "True"
      ]
     },
     "execution_count": 27,
     "metadata": {},
     "output_type": "execute_result"
    }
   ],
   "source": [
    "ufunc2 = np.vectorize(triangle_wave, otypes= [np.float64])\n",
    "y3 = ufunc2(x, 0.6, 0.4, 1.0)\n",
    "np.all(y==y3)"
   ]
  },
  {
   "cell_type": "markdown",
   "id": "ca290b26",
   "metadata": {},
   "source": [
    "### 广播\n",
    "当使用ufunc函数对两个数组进行计算时,ufunc函数会对这两个数组的对应元素进行计算, 因此它要求这两个数组的形状相同。如果形状不同，会进行如下广播处理：\n",
    "+ 让所有输入数姐都向其中维数最多的数组看齐，shape属性中不足的部分都通过在前面加 1补齐。\n",
    "+ 输出数组的shape属性是输入数组的shape属性的各个轴上的最大值\n",
    "+ 如果输入数组的某个轴的长度为1 或 与输出数组的对应轴的长度相同，这个数组能够用来计算，否则出错。\n",
    "+ 当输入数组的某个轴的长度为1时，沿着此轴运算时都用此轴上的第一组值。"
   ]
  },
  {
   "cell_type": "code",
   "execution_count": 28,
   "id": "b836c532",
   "metadata": {},
   "outputs": [
    {
     "data": {
      "text/plain": [
       "(array([1, 2, 3]), (3,))"
      ]
     },
     "execution_count": 28,
     "metadata": {},
     "output_type": "execute_result"
    },
    {
     "data": {
      "text/plain": [
       "(array([[10],\n",
       "        [20],\n",
       "        [30]]),\n",
       " (3, 1))"
      ]
     },
     "execution_count": 28,
     "metadata": {},
     "output_type": "execute_result"
    }
   ],
   "source": [
    "a = np.array([1,2,3])\n",
    "b = np.array([[10],[20],[30]])\n",
    "a, a.shape\n",
    "b, b.shape"
   ]
  },
  {
   "cell_type": "code",
   "execution_count": 29,
   "id": "9559ad24",
   "metadata": {},
   "outputs": [
    {
     "data": {
      "text/plain": [
       "array([[11, 12, 13],\n",
       "       [21, 22, 23],\n",
       "       [31, 32, 33]])"
      ]
     },
     "execution_count": 29,
     "metadata": {},
     "output_type": "execute_result"
    }
   ],
   "source": [
    "a+b"
   ]
  },
  {
   "cell_type": "markdown",
   "id": "55256e74",
   "metadata": {},
   "source": [
    "根据规则1：a的shape变成（1，3）  \n",
    "根据规则2：输出数组的shape是（3，3）  \n",
    "根据规则3：可以计算  \n",
    "根据规则4：a的第0轴为1，计算输出结果的第0轴时，总是使用\\[1,2,3\\]。同理计算第1轴时，b总是使用\\[10,20,30\\]"
   ]
  },
  {
   "cell_type": "markdown",
   "id": "65f5d523",
   "metadata": {},
   "source": [
    "可以使用np.broadcast_arrays()查看广播之后参与运算的数组："
   ]
  },
  {
   "cell_type": "code",
   "execution_count": 34,
   "id": "20f47665",
   "metadata": {},
   "outputs": [
    {
     "data": {
      "text/plain": [
       "array([[1, 2, 3],\n",
       "       [1, 2, 3],\n",
       "       [1, 2, 3]])"
      ]
     },
     "execution_count": 34,
     "metadata": {},
     "output_type": "execute_result"
    },
    {
     "data": {
      "text/plain": [
       "array([[10, 10, 10],\n",
       "       [20, 20, 20],\n",
       "       [30, 30, 30]])"
      ]
     },
     "execution_count": 34,
     "metadata": {},
     "output_type": "execute_result"
    }
   ],
   "source": [
    "a0,b0 = np.broadcast_arrays(a, b)\n",
    "a0\n",
    "b0"
   ]
  },
  {
   "cell_type": "markdown",
   "id": "e2c45326",
   "metadata": {},
   "source": [
    "### ufunc的方法\n",
    "ufunc函数对象本身还有一些方法函数，这些方法只对两个输入，一个输出的ufunc函数有效"
   ]
  },
  {
   "cell_type": "markdown",
   "id": "96df2f15",
   "metadata": {},
   "source": [
    "reduce()方法和Python的reduce（）函数类似，它沿着axis参数指定的轴对数组进行操作："
   ]
  },
  {
   "cell_type": "code",
   "execution_count": 31,
   "id": "8270edc4",
   "metadata": {},
   "outputs": [
    {
     "data": {
      "text/plain": [
       "6"
      ]
     },
     "execution_count": 31,
     "metadata": {},
     "output_type": "execute_result"
    },
    {
     "data": {
      "text/plain": [
       "array([ 3, -4])"
      ]
     },
     "execution_count": 31,
     "metadata": {},
     "output_type": "execute_result"
    }
   ],
   "source": [
    "np.add.reduce([1,2,3])\n",
    "np.subtract.reduce([[14,5,6],[1,2,3]], axis=1)"
   ]
  },
  {
   "cell_type": "markdown",
   "id": "540dba8c",
   "metadata": {},
   "source": [
    "accumulate()方法和reduce()类似，只是它返回的数组和输入数组的形状相同，保存所有的中间计算结果:"
   ]
  },
  {
   "cell_type": "code",
   "execution_count": 32,
   "id": "17a82bcb",
   "metadata": {},
   "outputs": [
    {
     "data": {
      "text/plain": [
       "array([1, 3, 6], dtype=int32)"
      ]
     },
     "execution_count": 32,
     "metadata": {},
     "output_type": "execute_result"
    },
    {
     "data": {
      "text/plain": [
       "array([[14,  9,  3],\n",
       "       [ 1, -1, -4]], dtype=int32)"
      ]
     },
     "execution_count": 32,
     "metadata": {},
     "output_type": "execute_result"
    }
   ],
   "source": [
    "np.add.accumulate([1,2,3])\n",
    "np.subtract.accumulate([[14,5,6],[1,2,3]], axis=1)"
   ]
  },
  {
   "cell_type": "markdown",
   "id": "3954b978",
   "metadata": {},
   "source": [
    "### 多维数组的下标\n",
    "多维数组的下标功能十分强大，同时也更加复杂"
   ]
  },
  {
   "cell_type": "code",
   "execution_count": 35,
   "id": "0c82e0c3",
   "metadata": {},
   "outputs": [
    {
     "data": {
      "text/plain": [
       "array([[[ 0,  1,  2,  3],\n",
       "        [ 4,  5,  6,  7],\n",
       "        [ 8,  9, 10, 11]],\n",
       "\n",
       "       [[12, 13, 14, 15],\n",
       "        [16, 17, 18, 19],\n",
       "        [20, 21, 22, 23]]])"
      ]
     },
     "execution_count": 35,
     "metadata": {},
     "output_type": "execute_result"
    }
   ],
   "source": [
    "a = np.arange(2*3*4).reshape(2,3,4)\n",
    "a"
   ]
  },
  {
   "cell_type": "markdown",
   "id": "3934a9d2",
   "metadata": {},
   "source": [
    "多维数组的下标应该是一个长度和数组的维数相同的元组。如栗下标元组的长度比数组的维数大，就会出错；如果小，就会在下标元组的后面补“：”"
   ]
  },
  {
   "cell_type": "code",
   "execution_count": 37,
   "id": "828a8ba2",
   "metadata": {},
   "outputs": [
    {
     "data": {
      "text/plain": [
       "array([[4, 5, 6, 7]])"
      ]
     },
     "execution_count": 37,
     "metadata": {},
     "output_type": "execute_result"
    }
   ],
   "source": [
    "a[([0],[1])]"
   ]
  },
  {
   "cell_type": "code",
   "execution_count": 38,
   "id": "fab3632e",
   "metadata": {},
   "outputs": [
    {
     "data": {
      "text/plain": [
       "array([6, 7])"
      ]
     },
     "execution_count": 38,
     "metadata": {},
     "output_type": "execute_result"
    }
   ],
   "source": [
    "a[([0],[1],[2,3])]"
   ]
  },
  {
   "cell_type": "code",
   "execution_count": 39,
   "id": "cfb6ad3b",
   "metadata": {},
   "outputs": [
    {
     "data": {
      "text/plain": [
       "array([6, 7])"
      ]
     },
     "execution_count": 39,
     "metadata": {},
     "output_type": "execute_result"
    }
   ],
   "source": [
    "a[0, 1, 2:4]"
   ]
  },
  {
   "cell_type": "code",
   "execution_count": 40,
   "id": "1030fa6f",
   "metadata": {},
   "outputs": [
    {
     "data": {
      "text/plain": [
       "array([[[[ 0,  1,  2,  3],\n",
       "         [ 4,  5,  6,  7],\n",
       "         [ 8,  9, 10, 11]]],\n",
       "\n",
       "\n",
       "       [[[12, 13, 14, 15],\n",
       "         [16, 17, 18, 19],\n",
       "         [20, 21, 22, 23]]]])"
      ]
     },
     "execution_count": 40,
     "metadata": {},
     "output_type": "execute_result"
    }
   ],
   "source": [
    "a[np.array([[0],[1]])]"
   ]
  },
  {
   "cell_type": "markdown",
   "id": "b972bc86",
   "metadata": {},
   "source": [
    "### 整数数组作为下标\n",
    "整数数组作为下标必须满足广播条件"
   ]
  },
  {
   "cell_type": "code",
   "execution_count": 44,
   "id": "2426eff1",
   "metadata": {},
   "outputs": [
    {
     "data": {
      "text/plain": [
       "array([[[14,  3, 14],\n",
       "        [ 2, 15,  2]],\n",
       "\n",
       "       [[18,  7, 18],\n",
       "        [ 6, 19,  6]]])"
      ]
     },
     "execution_count": 44,
     "metadata": {},
     "output_type": "execute_result"
    }
   ],
   "source": [
    "i0 = np.array([[1, 0, 1], [0, 1, 0]])\n",
    "i1 = np.array([[[0]], [[1]]])\n",
    "i2 = np.array([[[2, 3, 2]]]) \n",
    "b = a[i0, i1, i2]\n",
    "b"
   ]
  },
  {
   "cell_type": "markdown",
   "id": "5399489f",
   "metadata": {},
   "source": [
    "可能一下子看不出下标是怎么取值的，使用广播看一下："
   ]
  },
  {
   "cell_type": "code",
   "execution_count": 46,
   "id": "e53633d3",
   "metadata": {},
   "outputs": [
    {
     "data": {
      "text/plain": [
       "array([[[1, 0, 1],\n",
       "        [0, 1, 0]],\n",
       "\n",
       "       [[1, 0, 1],\n",
       "        [0, 1, 0]]])"
      ]
     },
     "execution_count": 46,
     "metadata": {},
     "output_type": "execute_result"
    },
    {
     "data": {
      "text/plain": [
       "array([[[0, 0, 0],\n",
       "        [0, 0, 0]],\n",
       "\n",
       "       [[1, 1, 1],\n",
       "        [1, 1, 1]]])"
      ]
     },
     "execution_count": 46,
     "metadata": {},
     "output_type": "execute_result"
    },
    {
     "data": {
      "text/plain": [
       "array([[[2, 3, 2],\n",
       "        [2, 3, 2]],\n",
       "\n",
       "       [[2, 3, 2],\n",
       "        [2, 3, 2]]])"
      ]
     },
     "execution_count": 46,
     "metadata": {},
     "output_type": "execute_result"
    }
   ],
   "source": [
    "ind0,ind1, ind2 = np.broadcast_arrays(i0, i1, i2)\n",
    "ind0\n",
    "ind1\n",
    "ind2"
   ]
  },
  {
   "cell_type": "code",
   "execution_count": 47,
   "id": "e06b3c4c",
   "metadata": {},
   "outputs": [
    {
     "data": {
      "text/plain": [
       "(2, 2)"
      ]
     },
     "execution_count": 47,
     "metadata": {},
     "output_type": "execute_result"
    }
   ],
   "source": [
    "i, j, k = 0, 1, 2\n",
    "b[i,j,k], a[ind0[i,j,k],ind1[i,j,k], ind2[i,j,k]]"
   ]
  },
  {
   "cell_type": "markdown",
   "id": "83d4aea0",
   "metadata": {},
   "source": [
    "当存在切片下标时，情况就变得更加复杂了。可以细分为两种情况：\n",
    "+ 下标元组中的整数数组之间没有切片\n",
    "+ 下标元组中的整数数组之间存在切片"
   ]
  },
  {
   "cell_type": "code",
   "execution_count": 57,
   "id": "2ca1c8cd",
   "metadata": {},
   "outputs": [
    {
     "data": {
      "text/plain": [
       "array([[[[16, 12, 16],\n",
       "         [12, 16, 12]],\n",
       "\n",
       "        [[17, 13, 17],\n",
       "         [13, 17, 13]]]])"
      ]
     },
     "execution_count": 57,
     "metadata": {},
     "output_type": "execute_result"
    }
   ],
   "source": [
    "c = a[1:,i0,i1]\n",
    "c"
   ]
  },
  {
   "cell_type": "code",
   "execution_count": 58,
   "id": "361ab8e1",
   "metadata": {},
   "outputs": [
    {
     "data": {
      "text/plain": [
       "(1, 2, 2, 3)"
      ]
     },
     "execution_count": 58,
     "metadata": {},
     "output_type": "execute_result"
    }
   ],
   "source": [
    "c.shape"
   ]
  },
  {
   "cell_type": "markdown",
   "id": "52f3e9c7",
   "metadata": {},
   "source": [
    "i0和i1广播之后的shape是（2，2，3）。c的shape就是（切片长度, 2，2，3）"
   ]
  },
  {
   "cell_type": "code",
   "execution_count": 53,
   "id": "f23e7bec",
   "metadata": {},
   "outputs": [
    {
     "data": {
      "text/plain": [
       "array([[[[18, 22],\n",
       "         [ 7, 11],\n",
       "         [18, 22]],\n",
       "\n",
       "        [[ 6, 10],\n",
       "         [19, 23],\n",
       "         [ 6, 10]]]])"
      ]
     },
     "execution_count": 53,
     "metadata": {},
     "output_type": "execute_result"
    }
   ],
   "source": [
    "c = a[i0,1:3,i2]\n",
    "c"
   ]
  },
  {
   "cell_type": "code",
   "execution_count": 54,
   "id": "37fd3205",
   "metadata": {},
   "outputs": [
    {
     "data": {
      "text/plain": [
       "(1, 2, 3, 2)"
      ]
     },
     "execution_count": 54,
     "metadata": {},
     "output_type": "execute_result"
    }
   ],
   "source": [
    "c.shape"
   ]
  },
  {
   "cell_type": "markdown",
   "id": "49078145",
   "metadata": {},
   "source": [
    "i0和i2广播之后的shape是（1，2，3）, c的shape就是（1，2，3，切片长度）"
   ]
  },
  {
   "cell_type": "markdown",
   "id": "2ad542ed",
   "metadata": {},
   "source": [
    "## 庞大的函数库\n",
    "NumPy还提供了大量对数组进行处理的函数。充分利用这些函数，能够简化程序的逻辑，提高运算速度。"
   ]
  },
  {
   "cell_type": "markdown",
   "id": "a81b6141",
   "metadata": {},
   "source": [
    "### 随机函数\n",
    "numpy.random模块中提供了大量的随机数相关的函数，用于生成随机数组。"
   ]
  },
  {
   "cell_type": "markdown",
   "id": "e502f9dc",
   "metadata": {},
   "source": [
    "#### rand\n",
    "rand()产生0到1之间的随机浮点数，它的所有参数用于指定所产生的数组的形状。"
   ]
  },
  {
   "cell_type": "code",
   "execution_count": 61,
   "id": "610ff28d",
   "metadata": {},
   "outputs": [
    {
     "data": {
      "text/plain": [
       "array([[0.42808239, 0.86756475, 0.8961507 ],\n",
       "       [0.61058667, 0.18584667, 0.60081484]])"
      ]
     },
     "execution_count": 61,
     "metadata": {},
     "output_type": "execute_result"
    }
   ],
   "source": [
    "np.random.rand(2,3)"
   ]
  },
  {
   "cell_type": "code",
   "execution_count": 62,
   "id": "d5c26d08",
   "metadata": {},
   "outputs": [],
   "source": [
    "np.set_printoptions(precision=2) #为了节街篇幅，只显示小数点后两位数字"
   ]
  },
  {
   "cell_type": "markdown",
   "id": "0a9876c5",
   "metadata": {},
   "source": [
    "#### randn\n",
    "randn()产生标准正态分布的随机数组"
   ]
  },
  {
   "cell_type": "code",
   "execution_count": 63,
   "id": "fe6b0531",
   "metadata": {},
   "outputs": [
    {
     "data": {
      "text/plain": [
       "array([[ 0.8 ,  1.3 ,  0.11],\n",
       "       [-0.69,  1.98, -0.63]])"
      ]
     },
     "execution_count": 63,
     "metadata": {},
     "output_type": "execute_result"
    }
   ],
   "source": [
    "np.random.randn(2,3)"
   ]
  },
  {
   "cell_type": "markdown",
   "id": "9dc04861",
   "metadata": {},
   "source": [
    "#### randint\n",
    "randint()产生指定范围的随机整数数组，包括起始值，但是不包括终值, 它的第三个参数用于指定数组的形状"
   ]
  },
  {
   "cell_type": "code",
   "execution_count": 64,
   "id": "777169bf",
   "metadata": {},
   "outputs": [
    {
     "data": {
      "text/plain": [
       "array([[3, 4],\n",
       "       [0, 5]])"
      ]
     },
     "execution_count": 64,
     "metadata": {},
     "output_type": "execute_result"
    }
   ],
   "source": [
    "np.random.randint(0, 10, (2,2))"
   ]
  },
  {
   "cell_type": "markdown",
   "id": "8836573d",
   "metadata": {},
   "source": [
    "#### normal\n",
    "正态分布，前两个参数分别为期望值和标准差"
   ]
  },
  {
   "cell_type": "code",
   "execution_count": 65,
   "id": "048a9d4c",
   "metadata": {},
   "outputs": [
    {
     "data": {
      "text/plain": [
       "array([[  2.42,  -1.3 ],\n",
       "       [ 22.47, -16.52]])"
      ]
     },
     "execution_count": 65,
     "metadata": {},
     "output_type": "execute_result"
    }
   ],
   "source": [
    "np.random.normal(0, 10, (2,2))"
   ]
  },
  {
   "cell_type": "markdown",
   "id": "36577845",
   "metadata": {},
   "source": [
    "#### uniform\n",
    "均匀分布，前两个参数分别为区间的起始值和终值。"
   ]
  },
  {
   "cell_type": "code",
   "execution_count": 66,
   "id": "90162e00",
   "metadata": {},
   "outputs": [
    {
     "data": {
      "text/plain": [
       "array([[6.02, 7.72],\n",
       "       [5.  , 0.46]])"
      ]
     },
     "execution_count": 66,
     "metadata": {},
     "output_type": "execute_result"
    }
   ],
   "source": [
    "np.random.uniform(0, 10, (2,2))"
   ]
  },
  {
   "cell_type": "markdown",
   "id": "bc5476be",
   "metadata": {},
   "source": [
    "#### poisson\n",
    "泊松分布，第一个参数指定泊松系数。由于泊松分布是一个离散分布，因此它输出的数组是一个整数数组。"
   ]
  },
  {
   "cell_type": "code",
   "execution_count": 67,
   "id": "01b4c8b8",
   "metadata": {},
   "outputs": [
    {
     "data": {
      "text/plain": [
       "array([[2, 5, 0],\n",
       "       [2, 2, 3],\n",
       "       [0, 2, 3],\n",
       "       [1, 0, 7]])"
      ]
     },
     "execution_count": 67,
     "metadata": {},
     "output_type": "execute_result"
    }
   ],
   "source": [
    "np.random.poisson(2.0, (4, 3))"
   ]
  },
  {
   "cell_type": "markdown",
   "id": "5cb60ebd",
   "metadata": {},
   "source": [
    "#### permutation\n",
    "用于产生一个乱序数组，当参数为整数n时，它返回\\[0，n)这n个整数的随机排列；当参数为一个序列时，它返回一个随机排列之后的序列。"
   ]
  },
  {
   "cell_type": "code",
   "execution_count": 68,
   "id": "40e6359b",
   "metadata": {},
   "outputs": [
    {
     "data": {
      "text/plain": [
       "array([4, 2, 3, 1, 0])"
      ]
     },
     "execution_count": 68,
     "metadata": {},
     "output_type": "execute_result"
    },
    {
     "data": {
      "text/plain": [
       "array([2, 3, 4, 1])"
      ]
     },
     "execution_count": 68,
     "metadata": {},
     "output_type": "execute_result"
    }
   ],
   "source": [
    "np.random.permutation(5)\n",
    "np.random.permutation([1,2,3,4])"
   ]
  },
  {
   "cell_type": "markdown",
   "id": "8d889c30",
   "metadata": {},
   "source": [
    "#### shuffle\n",
    "permutation()返回一个新数组，而shuffle()则直接将参数数组的顺序打乱"
   ]
  },
  {
   "cell_type": "code",
   "execution_count": 69,
   "id": "52f5cf7e",
   "metadata": {},
   "outputs": [
    {
     "data": {
      "text/plain": [
       "array([20, 40,  1, 30, 10])"
      ]
     },
     "execution_count": 69,
     "metadata": {},
     "output_type": "execute_result"
    }
   ],
   "source": [
    "a = np.array([1, 10, 20, 30, 40])\n",
    "np.random.shuffle(a)\n",
    "a"
   ]
  },
  {
   "cell_type": "markdown",
   "id": "70db44eb",
   "metadata": {},
   "source": [
    "#### choice\n",
    "指定的样本中随机进行抽取：\n",
    "+ size参数用于指定输出数组的形状\n",
    "+ replace参数为True时，进行可重复抽取，而为False吋进行不重复抽取，默认值为True。\n",
    "+ p参数指定每个元素对应的抽取概率，如果不指定，所有的元素被抽取到的概率相同。"
   ]
  },
  {
   "cell_type": "code",
   "execution_count": 71,
   "id": "34fa0395",
   "metadata": {},
   "outputs": [
    {
     "data": {
      "text/plain": [
       "array([[6., 8., 7.],\n",
       "       [1., 3., 4.],\n",
       "       [1., 5., 6.],\n",
       "       [9., 7., 3.]])"
      ]
     },
     "execution_count": 71,
     "metadata": {},
     "output_type": "execute_result"
    },
    {
     "data": {
      "text/plain": [
       "array([[8., 5., 0.],\n",
       "       [1., 6., 4.],\n",
       "       [9., 7., 3.]])"
      ]
     },
     "execution_count": 71,
     "metadata": {},
     "output_type": "execute_result"
    },
    {
     "data": {
      "text/plain": [
       "array([[8., 4., 2.],\n",
       "       [8., 9., 5.],\n",
       "       [7., 2., 9.],\n",
       "       [9., 7., 7.]])"
      ]
     },
     "execution_count": 71,
     "metadata": {},
     "output_type": "execute_result"
    }
   ],
   "source": [
    "a = np.arange(10, dtype=float)\n",
    "np.random.choice(a, size=(4,3))\n",
    "np.random.choice(a, size=(3,3), replace=False)\n",
    "np.random.choice(a, size=(4,3), p=a/np.sum(a))"
   ]
  },
  {
   "cell_type": "markdown",
   "id": "219a0972",
   "metadata": {},
   "source": [
    "为了保证每次运行时能重现相同的随机数，可以通过seed()函数指定随机数的种子"
   ]
  },
  {
   "cell_type": "code",
   "execution_count": 72,
   "id": "02dc2b6f",
   "metadata": {},
   "outputs": [
    {
     "data": {
      "text/plain": [
       "array([[0.18, 0.02, 0.46],\n",
       "       [0.72, 0.42, 0.49]])"
      ]
     },
     "execution_count": 72,
     "metadata": {},
     "output_type": "execute_result"
    },
    {
     "data": {
      "text/plain": [
       "array([[0.05, 0.29, 0.72],\n",
       "       [0.02, 0.21, 0.05]])"
      ]
     },
     "execution_count": 72,
     "metadata": {},
     "output_type": "execute_result"
    }
   ],
   "source": [
    "np.random.seed(11)\n",
    "np.random.rand(2,3)\n",
    "np.random.seed(21)\n",
    "np.random.rand(2,3)"
   ]
  },
  {
   "cell_type": "code",
   "execution_count": 73,
   "id": "a1c0fbfb",
   "metadata": {},
   "outputs": [
    {
     "data": {
      "text/plain": [
       "array([[0.18, 0.02, 0.46],\n",
       "       [0.72, 0.42, 0.49]])"
      ]
     },
     "execution_count": 73,
     "metadata": {},
     "output_type": "execute_result"
    },
    {
     "data": {
      "text/plain": [
       "array([[0.05, 0.29, 0.72],\n",
       "       [0.02, 0.21, 0.05]])"
      ]
     },
     "execution_count": 73,
     "metadata": {},
     "output_type": "execute_result"
    }
   ],
   "source": [
    "np.random.seed(11)\n",
    "np.random.rand(2,3)\n",
    "np.random.seed(21)\n",
    "np.random.rand(2,3)"
   ]
  },
  {
   "cell_type": "markdown",
   "id": "0916554a",
   "metadata": {},
   "source": [
    "### 求和、平均值、方差\n",
    "<img src=\"img/2-6.png\">"
   ]
  },
  {
   "cell_type": "code",
   "execution_count": 74,
   "id": "7d04d9e2",
   "metadata": {},
   "outputs": [
    {
     "data": {
      "text/plain": [
       "array([[6, 3, 7, 4, 6],\n",
       "       [9, 2, 6, 7, 4],\n",
       "       [3, 7, 7, 2, 5],\n",
       "       [4, 1, 7, 5, 1]])"
      ]
     },
     "execution_count": 74,
     "metadata": {},
     "output_type": "execute_result"
    }
   ],
   "source": [
    "np.random.seed(42)\n",
    "a = np.random.randint(0, 10,size=(4,5))\n",
    "a"
   ]
  },
  {
   "cell_type": "code",
   "execution_count": 75,
   "id": "1ae42889",
   "metadata": {},
   "outputs": [
    {
     "data": {
      "text/plain": [
       "96"
      ]
     },
     "execution_count": 75,
     "metadata": {},
     "output_type": "execute_result"
    }
   ],
   "source": [
    "a.sum()"
   ]
  },
  {
   "cell_type": "code",
   "execution_count": 76,
   "id": "5e4333e3",
   "metadata": {},
   "outputs": [
    {
     "data": {
      "text/plain": [
       "array([26, 28, 24, 18])"
      ]
     },
     "execution_count": 76,
     "metadata": {},
     "output_type": "execute_result"
    },
    {
     "data": {
      "text/plain": [
       "array([22, 13, 27, 18, 16])"
      ]
     },
     "execution_count": 76,
     "metadata": {},
     "output_type": "execute_result"
    }
   ],
   "source": [
    "a.sum(axis=1)\n",
    "a.sum(axis=0)"
   ]
  },
  {
   "cell_type": "markdown",
   "id": "13663b84",
   "metadata": {},
   "source": [
    "希望能够保持原数组的维数，这时可以设置keepdims参数为True"
   ]
  },
  {
   "cell_type": "code",
   "execution_count": 77,
   "id": "7c40c141",
   "metadata": {},
   "outputs": [
    {
     "data": {
      "text/plain": [
       "array([[22, 13, 27, 18, 16]])"
      ]
     },
     "execution_count": 77,
     "metadata": {},
     "output_type": "execute_result"
    }
   ],
   "source": [
    "a.sum(axis=0, keepdims=True)"
   ]
  },
  {
   "cell_type": "markdown",
   "id": "7e47b6c3",
   "metadata": {},
   "source": [
    "能够和原始数组进行广播运算"
   ]
  },
  {
   "cell_type": "markdown",
   "id": "85629e69",
   "metadata": {},
   "source": [
    "mean()求数组的平均值，它的参数与sum()相同。和sum()不同的是：对于整数数组它使用双精度浮点数进行计算，而对于其他类型的数组，则使用和数组元素类型相同的类型进行计算"
   ]
  },
  {
   "cell_type": "markdown",
   "id": "71cd57cc",
   "metadata": {},
   "source": [
    "average()也可以对数组进行平均计算。它没有out和dtype参数，但有一个指定每个元素权值的weights参数，可以用于计算加权平均数。"
   ]
  },
  {
   "cell_type": "code",
   "execution_count": 78,
   "id": "15307772",
   "metadata": {},
   "outputs": [
    {
     "data": {
      "text/plain": [
       "85.6"
      ]
     },
     "execution_count": 78,
     "metadata": {},
     "output_type": "execute_result"
    }
   ],
   "source": [
    "score = np.array([80,90,83])\n",
    "nums = np.array([12,20,8])\n",
    "np.average(score, weights=nums)"
   ]
  },
  {
   "cell_type": "markdown",
   "id": "cda964eb",
   "metadata": {},
   "source": [
    "std()和var()分别计算数组的标准差和方差，有axis、out、dtype以及keepdims等参数。"
   ]
  },
  {
   "cell_type": "code",
   "execution_count": 6,
   "id": "27895a9b",
   "metadata": {},
   "outputs": [
    {
     "data": {
      "text/plain": [
       "8.773755064297342"
      ]
     },
     "execution_count": 6,
     "metadata": {},
     "output_type": "execute_result"
    },
    {
     "data": {
      "text/plain": [
       "8.952811290099328"
      ]
     },
     "execution_count": 6,
     "metadata": {},
     "output_type": "execute_result"
    }
   ],
   "source": [
    "a = np.random.normal(0, 3, (300,50))\n",
    "a.var(axis=1, ddof=0).mean()\n",
    "a.var(axis=1, ddof=1).mean()"
   ]
  },
  {
   "cell_type": "markdown",
   "id": "387b7566",
   "metadata": {},
   "source": [
    "当ddof参数为0时，计算偏样本方差；当ddof为1时，计算无偏样本方差。默认为0。  \n",
    "可以看到无偏样本方差的期望值接近于总体方差,而偏样本方差小一些。"
   ]
  },
  {
   "cell_type": "markdown",
   "id": "816adc70",
   "metadata": {},
   "source": [
    "偏样本方差是正态分布随机变量的最大似然估计。首先了解一下什么是正态分布最大似然估计。正态分布的概率密度函数公式如下：\n",
    "  \n",
    "$$f(x | \\mu,\\sigma^2)=\\frac{1}{\\sigma\\sqrt{2\\pi}}e^{-\\frac{(x-\\mu)^2}{2\\sigma^2}}$$"
   ]
  },
  {
   "cell_type": "markdown",
   "id": "f23c6d62",
   "metadata": {},
   "source": [
    "所谓最大似然佔计，就是找到一组参数($\\mu$, $\\sigma$)使得样本的乘积最大：\n",
    "$$f(x_1)f(x_2)\\cdots f(x_n)$$"
   ]
  },
  {
   "cell_type": "markdown",
   "id": "37cece43",
   "metadata": {},
   "source": [
    "使用程序来验证："
   ]
  },
  {
   "cell_type": "code",
   "execution_count": 7,
   "id": "161a268b",
   "metadata": {},
   "outputs": [
    {
     "data": {
      "text/plain": [
       "array([-2.05412137, -0.18622036,  0.96010031,  1.06942424, -0.07583805,\n",
       "       -0.84778237, -1.71137085, -1.64076178, -1.31798904,  3.18818489])"
      ]
     },
     "execution_count": 7,
     "metadata": {},
     "output_type": "execute_result"
    }
   ],
   "source": [
    "def normal_pdf(mean, var, x):\n",
    "    '''计算正态分布的概率密度的函数'''\n",
    "    return 1 / np.sqrt(2 * np.pi * var) * np.exp(-(x - mean) ** 2 / (2 * var))\n",
    "\n",
    "# 生成正态分布的样本\n",
    "a = np.random.normal(0, 2, size=10)\n",
    "a"
   ]
  },
  {
   "cell_type": "code",
   "execution_count": 9,
   "id": "636af543",
   "metadata": {},
   "outputs": [
    {
     "data": {
      "text/plain": [
       "(-0.2616374387843031, 2.38820056625021)"
      ]
     },
     "execution_count": 9,
     "metadata": {},
     "output_type": "execute_result"
    }
   ],
   "source": [
    "# 计算样本的均值和方差\n",
    "mean, var = a.mean(), a.var()\n",
    "mean, var"
   ]
  },
  {
   "cell_type": "markdown",
   "id": "3f189b8c",
   "metadata": {},
   "source": [
    "这个就是最大似然估计的参数"
   ]
  },
  {
   "cell_type": "code",
   "execution_count": 13,
   "id": "0c8f68bb",
   "metadata": {},
   "outputs": [],
   "source": [
    "# 生成一系列的方差参数\n",
    "var_range = np.linspace(max(var - 4, 0.1), var + 4, 100)\n",
    "p = normal_pdf(mean, var_range[:, None], a)\n",
    "p = np.product(p, axis=1)"
   ]
  },
  {
   "cell_type": "code",
   "execution_count": 15,
   "id": "cfce6c7c",
   "metadata": {},
   "outputs": [
    {
     "data": {
      "text/plain": [
       "[<matplotlib.lines.Line2D at 0x1edd9688d90>]"
      ]
     },
     "execution_count": 15,
     "metadata": {},
     "output_type": "execute_result"
    },
    {
     "data": {
      "text/plain": [
       "<matplotlib.lines.Line2D at 0x1edd9dccc70>"
      ]
     },
     "execution_count": 15,
     "metadata": {},
     "output_type": "execute_result"
    },
    {
     "data": {
      "image/png": "[encoded data removed]",
      "text/plain": [
       "<Figure size 432x288 with 1 Axes>"
      ]
     },
     "metadata": {
      "needs_background": "light"
     },
     "output_type": "display_data"
    }
   ],
   "source": [
    "%matplotlib inline\n",
    "plt.plot(var_range, p) \n",
    "plt.axvline(var, 0, 1, c=\"r\")\n",
    "plt.show()"
   ]
  },
  {
   "cell_type": "markdown",
   "id": "93bb3f2a",
   "metadata": {},
   "source": [
    "可以看到偏样本方差位于似然估计曲线的最大值处"
   ]
  },
  {
   "cell_type": "markdown",
   "id": "b807fe70",
   "metadata": {},
   "source": [
    "### 大小与排序\n",
    "<img src=\"img/2-7.png\">"
   ]
  },
  {
   "cell_type": "markdown",
   "id": "40e224a1",
   "metadata": {},
   "source": [
    "#### 一个数组中最大值与最小值"
   ]
  },
  {
   "cell_type": "code",
   "execution_count": 17,
   "id": "4ade4901",
   "metadata": {},
   "outputs": [
    {
     "data": {
      "text/plain": [
       "array([[26, 69, 92, 86],\n",
       "       [ 1,  8, 51, 62],\n",
       "       [93, 95,  8,  3]])"
      ]
     },
     "execution_count": 17,
     "metadata": {},
     "output_type": "execute_result"
    }
   ],
   "source": [
    "a = np.random.randint(0, 100, (3,4))\n",
    "a"
   ]
  },
  {
   "cell_type": "code",
   "execution_count": 19,
   "id": "e7f776ad",
   "metadata": {},
   "outputs": [
    {
     "data": {
      "text/plain": [
       "95"
      ]
     },
     "execution_count": 19,
     "metadata": {},
     "output_type": "execute_result"
    },
    {
     "data": {
      "text/plain": [
       "array([93, 95, 92, 86])"
      ]
     },
     "execution_count": 19,
     "metadata": {},
     "output_type": "execute_result"
    },
    {
     "data": {
      "text/plain": [
       "array([92, 62, 95])"
      ]
     },
     "execution_count": 19,
     "metadata": {},
     "output_type": "execute_result"
    }
   ],
   "source": [
    "a.max()        # 全部的最大值\n",
    "a.max(axis=0)  # 第0轴上的最大值\n",
    "a.max(axis=1)  # 第1轴上的最大值"
   ]
  },
  {
   "cell_type": "markdown",
   "id": "2094b677",
   "metadata": {},
   "source": [
    "min的用法和max一样，都有axis、out、keepdims参数。"
   ]
  },
  {
   "cell_type": "markdown",
   "id": "49fce37b",
   "metadata": {},
   "source": [
    "同样地，可以使用argmax(),argmin()获取最值的下标"
   ]
  },
  {
   "cell_type": "code",
   "execution_count": 21,
   "id": "5499962a",
   "metadata": {},
   "outputs": [
    {
     "data": {
      "text/plain": [
       "4"
      ]
     },
     "execution_count": 21,
     "metadata": {},
     "output_type": "execute_result"
    },
    {
     "data": {
      "text/plain": [
       "array([1, 1, 2, 2], dtype=int64)"
      ]
     },
     "execution_count": 21,
     "metadata": {},
     "output_type": "execute_result"
    },
    {
     "data": {
      "text/plain": [
       "array([0, 0, 3], dtype=int64)"
      ]
     },
     "execution_count": 21,
     "metadata": {},
     "output_type": "execute_result"
    }
   ],
   "source": [
    "a.argmin()        # 把数组平坦化之后的最小值下标，有多个最值时得到第一个最值的下标\n",
    "a.argmin(axis=0)  # 第0轴上的最小值\n",
    "a.argmin(axis=1)  # 第1轴上的最小值"
   ]
  },
  {
   "cell_type": "markdown",
   "id": "e2cebca3",
   "metadata": {},
   "source": [
    "可以使用unravel_index()将一维数组的下标转换为多维数组的下标："
   ]
  },
  {
   "cell_type": "code",
   "execution_count": 22,
   "id": "202da0f3",
   "metadata": {},
   "outputs": [
    {
     "data": {
      "text/plain": [
       "(1, 0)"
      ]
     },
     "execution_count": 22,
     "metadata": {},
     "output_type": "execute_result"
    }
   ],
   "source": [
    "np.unravel_index(a.argmin(), a.shape)"
   ]
  },
  {
   "cell_type": "markdown",
   "id": "2f5f8372",
   "metadata": {},
   "source": [
    "#### 两个数组比较"
   ]
  },
  {
   "cell_type": "code",
   "execution_count": 23,
   "id": "062260d1",
   "metadata": {},
   "outputs": [
    {
     "data": {
      "text/plain": [
       "array([[89, 17, 94, 39],\n",
       "       [74, 42, 96, 39],\n",
       "       [92, 49, 94, 57]])"
      ]
     },
     "execution_count": 23,
     "metadata": {},
     "output_type": "execute_result"
    }
   ],
   "source": [
    "b = np.random.randint(0, 100, (3,4))\n",
    "b"
   ]
  },
  {
   "cell_type": "markdown",
   "id": "2d143935",
   "metadata": {},
   "source": [
    "maximum()和minimum()用于比较两个数组相应元素的大小。"
   ]
  },
  {
   "cell_type": "code",
   "execution_count": 24,
   "id": "10fcb010",
   "metadata": {},
   "outputs": [
    {
     "data": {
      "text/plain": [
       "array([[89, 69, 94, 86],\n",
       "       [74, 42, 96, 62],\n",
       "       [93, 95, 94, 57]])"
      ]
     },
     "execution_count": 24,
     "metadata": {},
     "output_type": "execute_result"
    }
   ],
   "source": [
    "np.maximum(a, b)"
   ]
  },
  {
   "cell_type": "code",
   "execution_count": 28,
   "id": "bdab1760",
   "metadata": {},
   "outputs": [
    {
     "data": {
      "text/plain": [
       "array([[2, 4, 6],\n",
       "       [3, 4, 6],\n",
       "       [5, 5, 6],\n",
       "       [7, 7, 7]])"
      ]
     },
     "execution_count": 28,
     "metadata": {},
     "output_type": "execute_result"
    }
   ],
   "source": [
    "x = np.array([1, 3, 5, 7])\n",
    "y = np.array([2, 4, 6])\n",
    "np.maximum(x[:, None], y[None, :])"
   ]
  },
  {
   "cell_type": "markdown",
   "id": "2d838be1",
   "metadata": {},
   "source": [
    "比较两个数组对应下标的元素，返回数组的形状为两参数数组广播之后的形状。"
   ]
  },
  {
   "cell_type": "markdown",
   "id": "20547bdf",
   "metadata": {},
   "source": [
    "#### 计算最大值最小值的差"
   ]
  },
  {
   "cell_type": "code",
   "execution_count": 30,
   "id": "d80698b1",
   "metadata": {},
   "outputs": [
    {
     "data": {
      "text/plain": [
       "94"
      ]
     },
     "execution_count": 30,
     "metadata": {},
     "output_type": "execute_result"
    },
    {
     "data": {
      "text/plain": [
       "array([92, 87, 84, 83])"
      ]
     },
     "execution_count": 30,
     "metadata": {},
     "output_type": "execute_result"
    },
    {
     "data": {
      "text/plain": [
       "array([66, 61, 92])"
      ]
     },
     "execution_count": 30,
     "metadata": {},
     "output_type": "execute_result"
    }
   ],
   "source": [
    "a.ptp()\n",
    "a.ptp(axis=0)\n",
    "a.ptp(axis=1)"
   ]
  },
  {
   "cell_type": "markdown",
   "id": "dc2b1d1f",
   "metadata": {},
   "source": [
    "#### 排序"
   ]
  },
  {
   "cell_type": "code",
   "execution_count": 32,
   "id": "0b736e4a",
   "metadata": {},
   "outputs": [
    {
     "data": {
      "text/plain": [
       "array([[26, 69, 86, 92],\n",
       "       [ 1,  8, 51, 62],\n",
       "       [ 3,  8, 93, 95]])"
      ]
     },
     "execution_count": 32,
     "metadata": {},
     "output_type": "execute_result"
    }
   ],
   "source": [
    "a.sort()\n",
    "a"
   ]
  },
  {
   "cell_type": "markdown",
   "id": "fa236032",
   "metadata": {},
   "source": [
    "直接使用数组的sort()方法会改变原数组。而使用np.sort()不会改变原数组，而是生成一个新数组："
   ]
  },
  {
   "cell_type": "code",
   "execution_count": 33,
   "id": "8b0f5490",
   "metadata": {},
   "outputs": [
    {
     "data": {
      "text/plain": [
       "array([[17, 39, 89, 94],\n",
       "       [39, 42, 74, 96],\n",
       "       [49, 57, 92, 94]])"
      ]
     },
     "execution_count": 33,
     "metadata": {},
     "output_type": "execute_result"
    },
    {
     "data": {
      "text/plain": [
       "array([[89, 17, 94, 39],\n",
       "       [74, 42, 96, 39],\n",
       "       [92, 49, 94, 57]])"
      ]
     },
     "execution_count": 33,
     "metadata": {},
     "output_type": "execute_result"
    }
   ],
   "source": [
    "np.sort(b)\n",
    "b"
   ]
  },
  {
   "cell_type": "code",
   "execution_count": 35,
   "id": "a10b051f",
   "metadata": {},
   "outputs": [
    {
     "data": {
      "text/plain": [
       "array([[74, 17, 94, 39],\n",
       "       [89, 42, 94, 39],\n",
       "       [92, 49, 96, 57]])"
      ]
     },
     "execution_count": 35,
     "metadata": {},
     "output_type": "execute_result"
    },
    {
     "data": {
      "text/plain": [
       "array([[17, 39, 89, 94],\n",
       "       [39, 42, 74, 96],\n",
       "       [49, 57, 92, 94]])"
      ]
     },
     "execution_count": 35,
     "metadata": {},
     "output_type": "execute_result"
    },
    {
     "data": {
      "text/plain": [
       "array([17, 39, 39, 42, 49, 57, 74, 89, 92, 94, 94, 96])"
      ]
     },
     "execution_count": 35,
     "metadata": {},
     "output_type": "execute_result"
    }
   ],
   "source": [
    "np.sort(b, axis=0)\n",
    "np.sort(b, axis=1)\n",
    "np.sort(b, axis=None)"
   ]
  },
  {
   "cell_type": "markdown",
   "id": "877b491c",
   "metadata": {},
   "source": [
    "axis默认值为-1，当为None时，即平坦化后排序"
   ]
  },
  {
   "cell_type": "markdown",
   "id": "e6204c4e",
   "metadata": {},
   "source": [
    "argsort()返回数组的排序下标， 而且不会改变原数组："
   ]
  },
  {
   "cell_type": "code",
   "execution_count": 39,
   "id": "ac9dff9e",
   "metadata": {},
   "outputs": [
    {
     "data": {
      "text/plain": [
       "array([[0, 1, 2, 3],\n",
       "       [0, 1, 2, 3],\n",
       "       [0, 1, 2, 3]], dtype=int64)"
      ]
     },
     "execution_count": 39,
     "metadata": {},
     "output_type": "execute_result"
    },
    {
     "data": {
      "text/plain": [
       "array([[1, 1, 1, 1],\n",
       "       [2, 2, 0, 0],\n",
       "       [0, 0, 2, 2]], dtype=int64)"
      ]
     },
     "execution_count": 39,
     "metadata": {},
     "output_type": "execute_result"
    }
   ],
   "source": [
    "a.argsort()\n",
    "a.argsort(axis=0)"
   ]
  },
  {
   "cell_type": "markdown",
   "id": "6cf5d4ee",
   "metadata": {},
   "source": [
    "可以使用广播的方法，从排序下标中获取排序后的数组："
   ]
  },
  {
   "cell_type": "code",
   "execution_count": 41,
   "id": "639e7137",
   "metadata": {},
   "outputs": [
    {
     "data": {
      "text/plain": [
       "(array([[0],\n",
       "        [1],\n",
       "        [2]]),\n",
       " array([[0, 1, 2, 3]]))"
      ]
     },
     "execution_count": 41,
     "metadata": {},
     "output_type": "execute_result"
    }
   ],
   "source": [
    "idx1, idx2 = np.ogrid[:b.shape[0], :b.shape[1]]\n",
    "idx1, idx2"
   ]
  },
  {
   "cell_type": "code",
   "execution_count": 42,
   "id": "be2e03dc",
   "metadata": {},
   "outputs": [
    {
     "data": {
      "text/plain": [
       "array([[17, 39, 89, 94],\n",
       "       [39, 42, 74, 96],\n",
       "       [49, 57, 92, 94]])"
      ]
     },
     "execution_count": 42,
     "metadata": {},
     "output_type": "execute_result"
    }
   ],
   "source": [
    "b[idx1, b.argsort()]"
   ]
  },
  {
   "cell_type": "code",
   "execution_count": 43,
   "id": "cd19afba",
   "metadata": {},
   "outputs": [
    {
     "data": {
      "text/plain": [
       "array([[74, 89, 89, 89],\n",
       "       [17, 42, 49, 42],\n",
       "       [94, 94, 96, 94]])"
      ]
     },
     "execution_count": 43,
     "metadata": {},
     "output_type": "execute_result"
    }
   ],
   "source": [
    "b[b.argsort(axis=0), idx1]"
   ]
  },
  {
   "cell_type": "markdown",
   "id": "6ff7ffc7",
   "metadata": {},
   "source": [
    "#### 计算前k位\n",
    "使用数组的partition()方法，会改变原数组，其前k位就是结果。使用np.partition()不会改变原数组。"
   ]
  },
  {
   "cell_type": "code",
   "execution_count": 47,
   "id": "b400af87",
   "metadata": {},
   "outputs": [],
   "source": [
    "r = np.random.randint(0,10000000,1000000)"
   ]
  },
  {
   "cell_type": "code",
   "execution_count": 49,
   "id": "b0cdd105",
   "metadata": {},
   "outputs": [
    {
     "data": {
      "text/plain": [
       "array([     18,      58,      44, ..., 7605916, 3939977, 3122480])"
      ]
     },
     "execution_count": 49,
     "metadata": {},
     "output_type": "execute_result"
    },
    {
     "data": {
      "text/plain": [
       "array([1253288, 5935220, 7605916, ..., 1169691, 3939977, 3122480])"
      ]
     },
     "execution_count": 49,
     "metadata": {},
     "output_type": "execute_result"
    }
   ],
   "source": [
    "np.partition(r, 5)\n",
    "r"
   ]
  },
  {
   "cell_type": "code",
   "execution_count": 50,
   "id": "0578eb41",
   "metadata": {},
   "outputs": [
    {
     "data": {
      "text/plain": [
       "array([18, 58, 44,  3, 62])"
      ]
     },
     "execution_count": 50,
     "metadata": {},
     "output_type": "execute_result"
    }
   ],
   "source": [
    "np.partition(r, 5)[:5]"
   ]
  },
  {
   "cell_type": "markdown",
   "id": "28599a7d",
   "metadata": {},
   "source": [
    "前K个数值没有按照从小到大排序， 如果需要，可以再调sort()方法排序"
   ]
  },
  {
   "cell_type": "markdown",
   "id": "fca0291e",
   "metadata": {},
   "source": [
    "由于partition()方法不需要对整个数组进行完整排序，因此速度比调用sort()之后再取前k个元素要快许多。"
   ]
  },
  {
   "cell_type": "markdown",
   "id": "be8969fc",
   "metadata": {},
   "source": [
    "用median()可以获得数组的中值，即对数组进行排序之后，位于数组中间位置的值。当长度是偶数时，则得到正中间两个数的平均值。"
   ]
  },
  {
   "cell_type": "code",
   "execution_count": 52,
   "id": "6ba93831",
   "metadata": {},
   "outputs": [
    {
     "data": {
      "text/plain": [
       "5001095.5"
      ]
     },
     "execution_count": 52,
     "metadata": {},
     "output_type": "execute_result"
    }
   ],
   "source": [
    "np.median(r)"
   ]
  },
  {
   "cell_type": "code",
   "execution_count": 54,
   "id": "6817b7ad",
   "metadata": {},
   "outputs": [
    {
     "data": {
      "text/plain": [
       "56.5"
      ]
     },
     "execution_count": 54,
     "metadata": {},
     "output_type": "execute_result"
    },
    {
     "data": {
      "text/plain": [
       "array([ 3.,  8., 86., 92.])"
      ]
     },
     "execution_count": 54,
     "metadata": {},
     "output_type": "execute_result"
    },
    {
     "data": {
      "text/plain": [
       "array([77.5, 29.5, 50.5])"
      ]
     },
     "execution_count": 54,
     "metadata": {},
     "output_type": "execute_result"
    }
   ],
   "source": [
    "np.median(a)\n",
    "np.median(a, axis=0)\n",
    "np.median(a, axis=1)"
   ]
  },
  {
   "cell_type": "markdown",
   "id": "f50cab1a",
   "metadata": {},
   "source": [
    "percentile()用于计算百分位数，即将数值从小到大排列，计算处于p%位置上的值"
   ]
  },
  {
   "cell_type": "code",
   "execution_count": 55,
   "id": "add3c4c3",
   "metadata": {},
   "outputs": [
    {
     "data": {
      "text/plain": [
       "array([2002365.6, 5001095.5])"
      ]
     },
     "execution_count": 55,
     "metadata": {},
     "output_type": "execute_result"
    }
   ],
   "source": [
    "np.percentile(r, [20,50])"
   ]
  },
  {
   "cell_type": "code",
   "execution_count": 57,
   "id": "b1180762",
   "metadata": {},
   "outputs": [
    {
     "data": {
      "text/plain": [
       "array([56.5])"
      ]
     },
     "execution_count": 57,
     "metadata": {},
     "output_type": "execute_result"
    },
    {
     "data": {
      "text/plain": [
       "array([[ 3.,  8., 86., 92.]])"
      ]
     },
     "execution_count": 57,
     "metadata": {},
     "output_type": "execute_result"
    },
    {
     "data": {
      "text/plain": [
       "array([[77.5, 29.5, 50.5]])"
      ]
     },
     "execution_count": 57,
     "metadata": {},
     "output_type": "execute_result"
    }
   ],
   "source": [
    "np.percentile(a, [50])\n",
    "np.percentile(a, [50], axis=0)\n",
    "np.percentile(a, [50], axis=1)"
   ]
  },
  {
   "cell_type": "markdown",
   "id": "70593427",
   "metadata": {},
   "source": [
    "当数组中的元素按照从小到大的顺序排列时，可以使用searchsorted()在数组中进行二分搜索:"
   ]
  },
  {
   "cell_type": "code",
   "execution_count": 58,
   "id": "f92f038e",
   "metadata": {},
   "outputs": [],
   "source": [
    "a = [2, 4, 8, 16, 16, 32] # 已经排好序的列表 \n",
    "v = [1, 5, 33, 16]  # 需要查找的值"
   ]
  },
  {
   "cell_type": "code",
   "execution_count": 59,
   "id": "cd3c8f44",
   "metadata": {},
   "outputs": [
    {
     "data": {
      "text/plain": [
       "array([0, 2, 6, 3], dtype=int64)"
      ]
     },
     "execution_count": 59,
     "metadata": {},
     "output_type": "execute_result"
    },
    {
     "data": {
      "text/plain": [
       "array([0, 2, 6, 5], dtype=int64)"
      ]
     },
     "execution_count": 59,
     "metadata": {},
     "output_type": "execute_result"
    }
   ],
   "source": [
    "np.searchsorted(a, v)\n",
    "np.searchsorted(a, v, side=\"right\")"
   ]
  },
  {
   "cell_type": "markdown",
   "id": "59d05b02",
   "metadata": {},
   "source": [
    "searchsorted()并不是判断v中的值是否出现在a中，而是返回一个下标数组,将v中对应的元素插入到a中的位置，能够保持数据的升序排列。side参数适用于当出现相同元素时，指定返回最左端的下标还是最右端的下标。"
   ]
  },
  {
   "cell_type": "markdown",
   "id": "c4c7a477",
   "metadata": {},
   "source": [
    "下面看一个比较复杂的例子：判断y中的元素是否存在于x。"
   ]
  },
  {
   "cell_type": "code",
   "execution_count": 63,
   "id": "0600ba4c",
   "metadata": {},
   "outputs": [],
   "source": [
    "x = np.array([3, 5, 7, 1, 9, 8, 6, 10])\n",
    "y = np.array([2, 1, 5, 10, 100, 6])\n",
    "def get_index_searchsorted(x, y):\n",
    "    x_index = x.argsort()\n",
    "    sort_index = np.searchsorted(x[x_index], y)\n",
    "    yindex = np.take(x_index, sort_index, mode=\"clip\") # index[sorted_index]一样，能有效防止越界\n",
    "    mask = x[yindex] != y\n",
    "    yindex[mask] = -1\n",
    "    return yindex"
   ]
  },
  {
   "cell_type": "code",
   "execution_count": 64,
   "id": "4ff69463",
   "metadata": {},
   "outputs": [
    {
     "data": {
      "text/plain": [
       "array([-1,  3,  1,  7, -1,  6], dtype=int64)"
      ]
     },
     "execution_count": 64,
     "metadata": {},
     "output_type": "execute_result"
    }
   ],
   "source": [
    "get_index_searchsorted(x, y)"
   ]
  },
  {
   "cell_type": "markdown",
   "id": "40690ace",
   "metadata": {},
   "source": [
    "### 统计函数 \n",
    "<img src=\"img/2-8.png\">"
   ]
  },
  {
   "cell_type": "markdown",
   "id": "32c4c238",
   "metadata": {},
   "source": [
    "#### unique\n",
    "返回其参数数组中所有不同的值，并且按照从小到大的顺序排列。"
   ]
  },
  {
   "cell_type": "code",
   "execution_count": 3,
   "id": "37203ce2",
   "metadata": {},
   "outputs": [
    {
     "data": {
      "text/plain": [
       "array([5, 4, 6, 2, 5, 2, 3, 5, 2, 0])"
      ]
     },
     "execution_count": 3,
     "metadata": {},
     "output_type": "execute_result"
    }
   ],
   "source": [
    "a = np.random.randint(0, 8, 10)\n",
    "a"
   ]
  },
  {
   "cell_type": "code",
   "execution_count": 5,
   "id": "03102b35",
   "metadata": {},
   "outputs": [
    {
     "data": {
      "text/plain": [
       "array([0, 2, 3, 4, 5, 6])"
      ]
     },
     "execution_count": 5,
     "metadata": {},
     "output_type": "execute_result"
    }
   ],
   "source": [
    "np.unique(a)"
   ]
  },
  {
   "cell_type": "code",
   "execution_count": 6,
   "id": "d65b1f92",
   "metadata": {},
   "outputs": [],
   "source": [
    "x, index = np.unique(a, return_index=True)"
   ]
  },
  {
   "cell_type": "code",
   "execution_count": 7,
   "id": "fb62f693",
   "metadata": {},
   "outputs": [
    {
     "data": {
      "text/plain": [
       "array([0, 2, 3, 4, 5, 6])"
      ]
     },
     "execution_count": 7,
     "metadata": {},
     "output_type": "execute_result"
    },
    {
     "data": {
      "text/plain": [
       "array([9, 3, 6, 1, 0, 2], dtype=int64)"
      ]
     },
     "execution_count": 7,
     "metadata": {},
     "output_type": "execute_result"
    }
   ],
   "source": [
    "x\n",
    "index # 返回原始数组中的下标"
   ]
  },
  {
   "cell_type": "code",
   "execution_count": 9,
   "id": "dbb3b05f",
   "metadata": {},
   "outputs": [
    {
     "data": {
      "text/plain": [
       "array([9, 3, 6, 1, 0, 2], dtype=int64)"
      ]
     },
     "execution_count": 9,
     "metadata": {},
     "output_type": "execute_result"
    },
    {
     "data": {
      "text/plain": [
       "array([4, 3, 5, 1, 4, 1, 2, 4, 1, 0], dtype=int64)"
      ]
     },
     "execution_count": 9,
     "metadata": {},
     "output_type": "execute_result"
    }
   ],
   "source": [
    "x, index, oindex = np.unique(a, return_index=True, return_inverse=True)\n",
    "index\n",
    "oindex"
   ]
  },
  {
   "cell_type": "code",
   "execution_count": 10,
   "id": "2a209514",
   "metadata": {},
   "outputs": [
    {
     "data": {
      "text/plain": [
       "True"
      ]
     },
     "execution_count": 10,
     "metadata": {},
     "output_type": "execute_result"
    }
   ],
   "source": [
    "(x[oindex] == a).all()"
   ]
  },
  {
   "cell_type": "markdown",
   "id": "471bd116",
   "metadata": {},
   "source": [
    "#### bincount\n",
    "统计整数数组中各个元素所出现的次数。它要求数组中的所有元素都是非负的"
   ]
  },
  {
   "cell_type": "code",
   "execution_count": 12,
   "id": "ad38b5ef",
   "metadata": {},
   "outputs": [
    {
     "data": {
      "text/plain": [
       "array([1, 0, 3, 1, 1, 3, 1], dtype=int64)"
      ]
     },
     "execution_count": 12,
     "metadata": {},
     "output_type": "execute_result"
    }
   ],
   "source": [
    "np.bincount(a)"
   ]
  },
  {
   "cell_type": "markdown",
   "id": "cf2f3d44",
   "metadata": {},
   "source": [
    "返回数组中第i个元素的值表示整数i出现的次数。"
   ]
  },
  {
   "cell_type": "markdown",
   "id": "217847de",
   "metadata": {},
   "source": [
    "通过weights参数可以指定数组中每个元素所对应的权值。当指定weights参数时，bincount()返回数组中的每个整数所对应的w中的权值之和。"
   ]
  },
  {
   "cell_type": "code",
   "execution_count": 14,
   "id": "fec28e4f",
   "metadata": {},
   "outputs": [
    {
     "data": {
      "text/plain": [
       "array([0.9, 0.8, 1.4, 0.4])"
      ]
     },
     "execution_count": 14,
     "metadata": {},
     "output_type": "execute_result"
    }
   ],
   "source": [
    "x = np.array([0, 1, 2, 3, 1, 0, 2])\n",
    "w = np.array([0.1, 0.3, 0.2,0.4,0.5,0.8, 1.2])\n",
    "np.bincount(x, w)"
   ]
  },
  {
   "cell_type": "markdown",
   "id": "750c9f2c",
   "metadata": {},
   "source": [
    "0对应的权重分别是0.1和0.8，求和就是0.9"
   ]
  },
  {
   "cell_type": "code",
   "execution_count": 15,
   "id": "d6e28a9a",
   "metadata": {},
   "outputs": [
    {
     "data": {
      "text/plain": [
       "array([0.45, 0.4 , 0.7 , 0.4 ])"
      ]
     },
     "execution_count": 15,
     "metadata": {},
     "output_type": "execute_result"
    }
   ],
   "source": [
    "np.bincount(x, w) / np.bincount(x) # 加权平均"
   ]
  },
  {
   "cell_type": "markdown",
   "id": "910f2958",
   "metadata": {},
   "source": [
    "#### histogram\n",
    "一维数组进行直方图统计，有以下几个参数\n",
    "+ 需要统计的一维数组\n",
    "+ bins： 指定统计的区间个数\n",
    "+ range: 表示统计范围的最小值和最大值，None表示不限制\n",
    "+ weights：和bincount()的weights参数的类似\n",
    "+ density: False--函数返回数组在每个区间的元素个数，参数为True则返回每个区间的概率密度"
   ]
  },
  {
   "cell_type": "code",
   "execution_count": 16,
   "id": "1520c982",
   "metadata": {},
   "outputs": [
    {
     "data": {
      "text/plain": [
       "(array([18, 22, 28, 21, 11], dtype=int64),\n",
       " array([0. , 0.2, 0.4, 0.6, 0.8, 1. ]))"
      ]
     },
     "execution_count": 16,
     "metadata": {},
     "output_type": "execute_result"
    }
   ],
   "source": [
    "a = np.random.rand(100)\n",
    "np.histogram(a, bins=5, range=(0, 1))"
   ]
  },
  {
   "cell_type": "markdown",
   "id": "a593c8a9",
   "metadata": {},
   "source": [
    "第一个数组是每个区间的统计结果  \n",
    "第二个数组每两个相邻的数值构成一个统计区间。"
   ]
  },
  {
   "cell_type": "code",
   "execution_count": 19,
   "id": "95210a79",
   "metadata": {},
   "outputs": [
    {
     "data": {
      "text/plain": [
       "(array([18., 22., 28., 21., 11.]),\n",
       " array([0. , 0.2, 0.4, 0.6, 0.8, 1. ]),\n",
       " <BarContainer object of 5 artists>)"
      ]
     },
     "execution_count": 19,
     "metadata": {},
     "output_type": "execute_result"
    },
    {
     "data": {
      "image/png": "[encoded data removed]",
      "text/plain": [
       "<Figure size 432x288 with 1 Axes>"
      ]
     },
     "metadata": {
      "needs_background": "light"
     },
     "output_type": "display_data"
    }
   ],
   "source": [
    "plt.hist(a, bins=5, range=(0,1))\n",
    "plt.show()"
   ]
  },
  {
   "cell_type": "markdown",
   "id": "c41bb11f",
   "metadata": {},
   "source": [
    "可以看出每个统计区间都是等间隔划分的，如果需要统计的区间的长度不等，可以这样做："
   ]
  },
  {
   "cell_type": "code",
   "execution_count": 20,
   "id": "3bd28eb6",
   "metadata": {},
   "outputs": [
    {
     "data": {
      "text/plain": [
       "(array([31, 26, 32, 11], dtype=int64), array([0. , 0.3, 0.5, 0.8, 1. ]))"
      ]
     },
     "execution_count": 20,
     "metadata": {},
     "output_type": "execute_result"
    }
   ],
   "source": [
    "np.histogram(a, bins=[0, 0.3, 0.5,0.8,1], range=(0, 1))"
   ]
  },
  {
   "cell_type": "markdown",
   "id": "d73b4b3c",
   "metadata": {},
   "source": [
    "返回的第二个数组就是指定的bins参数。"
   ]
  },
  {
   "cell_type": "markdown",
   "id": "2edcc486",
   "metadata": {},
   "source": [
    "histogram2d()和histogramdd()对二维和多维维数掘进行直方图统计"
   ]
  },
  {
   "cell_type": "markdown",
   "id": "a2f031ab",
   "metadata": {},
   "source": [
    "### 分段函数\n",
    "还是以三角波函数为例，了解分段函数。"
   ]
  },
  {
   "cell_type": "markdown",
   "id": "5a1e3978",
   "metadata": {},
   "source": [
    "#### where函数\n",
    "where函数和if-else表达式相似"
   ]
  },
  {
   "cell_type": "code",
   "execution_count": 23,
   "id": "14cf0478",
   "metadata": {},
   "outputs": [
    {
     "data": {
      "text/plain": [
       "array([0, 1, 2, 3, 4, 5, 3, 2, 1, 0])"
      ]
     },
     "execution_count": 23,
     "metadata": {},
     "output_type": "execute_result"
    }
   ],
   "source": [
    "a = np.arange(10)\n",
    "np.where(a>5, 9-a, a)"
   ]
  },
  {
   "cell_type": "markdown",
   "id": "5d52313b",
   "metadata": {},
   "source": [
    "当条件中的某个元素为True时, 返回数组的对应下标的值从第一个数组获取，否则从第二个数组获取。  \n",
    "也可以当作lambda表达式处理。"
   ]
  },
  {
   "cell_type": "code",
   "execution_count": 26,
   "id": "3f25540b",
   "metadata": {},
   "outputs": [],
   "source": [
    "def triangle_wavel(x, c, c0, he):\n",
    "    x = x - x.astype(int) #三角波的周期为1，因此只取x坐标的小数部分进行计算 \n",
    "    res = np.where(x < c0, x / c0 * he, (c - x) / (c - c0) * he)\n",
    "    return np.where(x >= c, 0, res)"
   ]
  },
  {
   "cell_type": "code",
   "execution_count": 27,
   "id": "cc136d36",
   "metadata": {},
   "outputs": [
    {
     "data": {
      "text/plain": [
       "[<matplotlib.lines.Line2D at 0x19007131400>]"
      ]
     },
     "execution_count": 27,
     "metadata": {},
     "output_type": "execute_result"
    },
    {
     "data": {
      "image/png": "[encoded data removed]",
      "text/plain": [
       "<Figure size 432x288 with 1 Axes>"
      ]
     },
     "metadata": {
      "needs_background": "light"
     },
     "output_type": "display_data"
    }
   ],
   "source": [
    "x = np.linspace(0,2,2000)\n",
    "y = triangle_wavel(x, 0.4, 0.6, 1)\n",
    "plt.plot(x, y)\n",
    "plt.show()"
   ]
  },
  {
   "cell_type": "markdown",
   "id": "1abc3d73",
   "metadata": {},
   "source": [
    "随着分段函数的分段数量的增加，需要嵌套更多层where()。这样不便于程序的编写和阅读。 可以用select()函数解决这个问题："
   ]
  },
  {
   "cell_type": "code",
   "execution_count": 28,
   "id": "f12a3f37",
   "metadata": {},
   "outputs": [],
   "source": [
    "def triangle_wave2(x, c, c0, he):\n",
    "    x = x - x.astype(int)\n",
    "    condlist = [x>=c, x<c0, True]\n",
    "    choicelist = [0 , x/c0*hc, (c-x)/(c-c0)*hc]\n",
    "    return np.select(condlist, choicelist)"
   ]
  },
  {
   "cell_type": "code",
   "execution_count": 30,
   "id": "642c6fca",
   "metadata": {},
   "outputs": [
    {
     "data": {
      "text/plain": [
       "[<matplotlib.lines.Line2D at 0x19007a05850>]"
      ]
     },
     "execution_count": 30,
     "metadata": {},
     "output_type": "execute_result"
    },
    {
     "data": {
      "image/png": "[encoded data removed]",
      "text/plain": [
       "<Figure size 432x288 with 1 Axes>"
      ]
     },
     "metadata": {
      "needs_background": "light"
     },
     "output_type": "display_data"
    }
   ],
   "source": [
    "y = triangle_wave2(x, 0.6, 0.4, 1)\n",
    "plt.plot(x, y)\n",
    "plt.show()"
   ]
  },
  {
   "cell_type": "markdown",
   "id": "3f07aba7",
   "metadata": {},
   "source": [
    "select()其实就是switch表达式的应用。  \n",
    "select()函数会产生很多中间结果，为了解决这个问题，NumPy提供了piecewise()专门用于计算分段函数。"
   ]
  },
  {
   "cell_type": "code",
   "execution_count": 31,
   "id": "212d864f",
   "metadata": {},
   "outputs": [],
   "source": [
    "def triangle_wave3(x, c, c0, he): \n",
    "    x = x - x.astype(int)\n",
    "    condlist = [x>=c, x<c0]  # 只有两个条件，剩下的是默认\n",
    "    funclist = [0, lambda x: x / c0 * he, lambda x: (c-x)/(c-c0)*he] # 三个处理函数\n",
    "    return np.piecewise(x, condlist, funclist)"
   ]
  },
  {
   "cell_type": "code",
   "execution_count": 32,
   "id": "332fdfe9",
   "metadata": {},
   "outputs": [
    {
     "data": {
      "text/plain": [
       "[<matplotlib.lines.Line2D at 0x190058655b0>]"
      ]
     },
     "execution_count": 32,
     "metadata": {},
     "output_type": "execute_result"
    },
    {
     "data": {
      "image/png": "[encoded data removed]",
      "text/plain": [
       "<Figure size 432x288 with 1 Axes>"
      ]
     },
     "metadata": {
      "needs_background": "light"
     },
     "output_type": "display_data"
    }
   ],
   "source": [
    "y = triangle_wave3(x, 0.6, 0.4, 1)\n",
    "plt.plot(x, y)\n",
    "plt.show()"
   ]
  },
  {
   "cell_type": "markdown",
   "id": "7c4a9ef6",
   "metadata": {},
   "source": [
    "### 操作多维数组\n",
    "<img src=\"img/2-9.png\">"
   ]
  },
  {
   "cell_type": "markdown",
   "id": "c5489549",
   "metadata": {},
   "source": [
    "concatenate()是连接多个数组的最基本的函数，其他函数都是它的快捷版本。"
   ]
  },
  {
   "cell_type": "code",
   "execution_count": 34,
   "id": "c208a1b2",
   "metadata": {},
   "outputs": [],
   "source": [
    "a = np.arange(10).reshape(2, -1)\n",
    "b = np.arange(10,16).reshape(2, -1)\n",
    "c = np.arange(0, 100, 5).reshape(-1, 5)"
   ]
  },
  {
   "cell_type": "code",
   "execution_count": 36,
   "id": "d7c0d952",
   "metadata": {},
   "outputs": [
    {
     "data": {
      "text/plain": [
       "array([[0, 1, 2, 3, 4],\n",
       "       [5, 6, 7, 8, 9]])"
      ]
     },
     "execution_count": 36,
     "metadata": {},
     "output_type": "execute_result"
    },
    {
     "data": {
      "text/plain": [
       "array([[10, 11, 12],\n",
       "       [13, 14, 15]])"
      ]
     },
     "execution_count": 36,
     "metadata": {},
     "output_type": "execute_result"
    },
    {
     "data": {
      "text/plain": [
       "array([[ 0,  5, 10, 15, 20],\n",
       "       [25, 30, 35, 40, 45],\n",
       "       [50, 55, 60, 65, 70],\n",
       "       [75, 80, 85, 90, 95]])"
      ]
     },
     "execution_count": 36,
     "metadata": {},
     "output_type": "execute_result"
    }
   ],
   "source": [
    "a\n",
    "b\n",
    "c"
   ]
  },
  {
   "cell_type": "code",
   "execution_count": 37,
   "id": "9e70c7f3",
   "metadata": {},
   "outputs": [
    {
     "data": {
      "text/plain": [
       "array([[ 0,  1,  2,  3,  4, 10, 11, 12],\n",
       "       [ 5,  6,  7,  8,  9, 13, 14, 15]])"
      ]
     },
     "execution_count": 37,
     "metadata": {},
     "output_type": "execute_result"
    }
   ],
   "source": [
    "np.concatenate((a, b), axis=1)"
   ]
  },
  {
   "cell_type": "markdown",
   "id": "7a01ded8",
   "metadata": {},
   "source": [
    "所有这些数组的形状除了第axis轴之外都相同"
   ]
  },
  {
   "cell_type": "code",
   "execution_count": 38,
   "id": "502b0993",
   "metadata": {},
   "outputs": [
    {
     "data": {
      "text/plain": [
       "array([[ 0,  1,  2,  3,  4],\n",
       "       [ 5,  6,  7,  8,  9],\n",
       "       [ 0,  5, 10, 15, 20],\n",
       "       [25, 30, 35, 40, 45],\n",
       "       [50, 55, 60, 65, 70],\n",
       "       [75, 80, 85, 90, 95]])"
      ]
     },
     "execution_count": 38,
     "metadata": {},
     "output_type": "execute_result"
    }
   ],
   "source": [
    "np.concatenate((a, c))"
   ]
  },
  {
   "cell_type": "code",
   "execution_count": 39,
   "id": "44f0a670",
   "metadata": {},
   "outputs": [
    {
     "data": {
      "text/plain": [
       "array([[ 0,  1,  2,  3,  4],\n",
       "       [ 5,  6,  7,  8,  9],\n",
       "       [ 0,  5, 10, 15, 20],\n",
       "       [25, 30, 35, 40, 45],\n",
       "       [50, 55, 60, 65, 70],\n",
       "       [75, 80, 85, 90, 95]])"
      ]
     },
     "execution_count": 39,
     "metadata": {},
     "output_type": "execute_result"
    }
   ],
   "source": [
    "np.vstack((a,c))  # np.concatenate((a, c)), 沿0轴叠加"
   ]
  },
  {
   "cell_type": "code",
   "execution_count": 40,
   "id": "8d429ea4",
   "metadata": {},
   "outputs": [
    {
     "data": {
      "text/plain": [
       "array([[ 0,  1,  2,  3,  4, 10, 11, 12],\n",
       "       [ 5,  6,  7,  8,  9, 13, 14, 15]])"
      ]
     },
     "execution_count": 40,
     "metadata": {},
     "output_type": "execute_result"
    }
   ],
   "source": [
    "np.hstack((a, b)) # np.concatenate((a, b), axis=1)沿1轴叠加"
   ]
  },
  {
   "cell_type": "markdown",
   "id": "88a0f3ed",
   "metadata": {},
   "source": [
    "column_stack()和hstack()类似，沿着第1轴连接数组，但是当数组为一维时，将其形状改为(N，1), 经常用于按列连接多个一维数组。"
   ]
  },
  {
   "cell_type": "code",
   "execution_count": 42,
   "id": "def77ba4",
   "metadata": {},
   "outputs": [
    {
     "data": {
      "text/plain": [
       "array([[ 0,  1,  2,  3,  4,  5],\n",
       "       [ 5,  6,  7,  8,  9, 10]])"
      ]
     },
     "execution_count": 42,
     "metadata": {},
     "output_type": "execute_result"
    }
   ],
   "source": [
    "d = np.array([5, 10])\n",
    "np.column_stack((a, d))"
   ]
  },
  {
   "cell_type": "markdown",
   "id": "d2dfc893",
   "metadata": {},
   "source": [
    "split()和array_split()的用法基本相同，将一个数组沿着指定轴分成多个数组，可以直接指定切分轴上的切分点下标。"
   ]
  },
  {
   "cell_type": "code",
   "execution_count": 43,
   "id": "e23c9562",
   "metadata": {},
   "outputs": [
    {
     "data": {
      "text/plain": [
       "array([6, 3, 7, 4, 6, 9, 2, 6, 7, 4, 3, 7])"
      ]
     },
     "execution_count": 43,
     "metadata": {},
     "output_type": "execute_result"
    }
   ],
   "source": [
    "np.random.seed(42)\n",
    "a = np.random.randint(0, 10, 12)\n",
    "a"
   ]
  },
  {
   "cell_type": "markdown",
   "id": "ba005f63",
   "metadata": {},
   "source": [
    "现在要将数组a切分，保证切分后的子数组都是升序排列的。"
   ]
  },
  {
   "cell_type": "code",
   "execution_count": 45,
   "id": "e1c4c544",
   "metadata": {},
   "outputs": [
    {
     "data": {
      "text/plain": [
       "array([ True, False,  True, False, False,  True, False, False,  True,\n",
       "        True, False])"
      ]
     },
     "execution_count": 45,
     "metadata": {},
     "output_type": "execute_result"
    }
   ],
   "source": [
    "np.diff(a)<0 # True的下标即为切分点"
   ]
  },
  {
   "cell_type": "code",
   "execution_count": 47,
   "id": "4338fbfe",
   "metadata": {},
   "outputs": [
    {
     "data": {
      "text/plain": [
       "array([ 1,  3,  6,  9, 10], dtype=int64)"
      ]
     },
     "execution_count": 47,
     "metadata": {},
     "output_type": "execute_result"
    }
   ],
   "source": [
    "idx = np.nonzero(np.diff(a) < 0)[0]+1\n",
    "idx"
   ]
  },
  {
   "cell_type": "code",
   "execution_count": 48,
   "id": "b623dc0f",
   "metadata": {},
   "outputs": [
    {
     "data": {
      "text/plain": [
       "[array([6]),\n",
       " array([3, 7]),\n",
       " array([4, 6, 9]),\n",
       " array([2, 6, 7]),\n",
       " array([4]),\n",
       " array([3, 7])]"
      ]
     },
     "execution_count": 48,
     "metadata": {},
     "output_type": "execute_result"
    }
   ],
   "source": [
    "np.split(a, idx)"
   ]
  },
  {
   "cell_type": "markdown",
   "id": "678a2361",
   "metadata": {},
   "source": [
    "当idx为整数时，表示要将数组切分成几份，其中split()函数是平均切分，array_split是尽可能等分。"
   ]
  },
  {
   "cell_type": "code",
   "execution_count": 51,
   "id": "53f2b634",
   "metadata": {},
   "outputs": [
    {
     "data": {
      "text/plain": [
       "[array([6, 3, 7]), array([4, 6, 9]), array([2, 6, 7]), array([4, 3, 7])]"
      ]
     },
     "execution_count": 51,
     "metadata": {},
     "output_type": "execute_result"
    }
   ],
   "source": [
    "np.split(a, 4) # 第二个参数不能为5，因为不能等分"
   ]
  },
  {
   "cell_type": "code",
   "execution_count": 53,
   "id": "17287f0d",
   "metadata": {},
   "outputs": [
    {
     "data": {
      "text/plain": [
       "[array([6, 3, 7]),\n",
       " array([4, 6, 9]),\n",
       " array([2, 6]),\n",
       " array([7, 4]),\n",
       " array([3, 7])]"
      ]
     },
     "execution_count": 53,
     "metadata": {},
     "output_type": "execute_result"
    }
   ],
   "source": [
    "np.array_split(a, 5)"
   ]
  },
  {
   "cell_type": "markdown",
   "id": "4cde37c2",
   "metadata": {},
   "source": [
    "transpose()和swapaxes()用于修改轴的顺序，它们得到的是原数组的视图。"
   ]
  },
  {
   "cell_type": "code",
   "execution_count": 54,
   "id": "70070321",
   "metadata": {},
   "outputs": [
    {
     "data": {
      "text/plain": [
       "(2, 3, 4, 5)"
      ]
     },
     "execution_count": 54,
     "metadata": {},
     "output_type": "execute_result"
    }
   ],
   "source": [
    "a = np.random.randint(0, 10, (2, 3, 4, 5))\n",
    "a.shape"
   ]
  },
  {
   "cell_type": "markdown",
   "id": "991c6759",
   "metadata": {},
   "source": [
    "transpose()通过其第二个参数axes指定轴的顺序，默认时表示将整个形状翻转。"
   ]
  },
  {
   "cell_type": "code",
   "execution_count": 55,
   "id": "69510959",
   "metadata": {},
   "outputs": [
    {
     "data": {
      "text/plain": [
       "(5, 4, 3, 2)"
      ]
     },
     "execution_count": 55,
     "metadata": {},
     "output_type": "execute_result"
    }
   ],
   "source": [
    "np.transpose(a).shape"
   ]
  },
  {
   "cell_type": "code",
   "execution_count": 56,
   "id": "1b858f71",
   "metadata": {},
   "outputs": [
    {
     "data": {
      "text/plain": [
       "(2, 5, 4, 3)"
      ]
     },
     "execution_count": 56,
     "metadata": {},
     "output_type": "execute_result"
    }
   ],
   "source": [
    "np.transpose(a, axes=(0,3,2,1)).shape"
   ]
  },
  {
   "cell_type": "markdown",
   "id": "40afb2d3",
   "metadata": {},
   "source": [
    "swapaxes()通过两个整数指定调换顺序的轴。"
   ]
  },
  {
   "cell_type": "code",
   "execution_count": 58,
   "id": "b8c7d97e",
   "metadata": {},
   "outputs": [
    {
     "data": {
      "text/plain": [
       "(2, 5, 4, 3)"
      ]
     },
     "execution_count": 58,
     "metadata": {},
     "output_type": "execute_result"
    }
   ],
   "source": [
    "np.swapaxes(a, 1, 3).shape"
   ]
  },
  {
   "cell_type": "markdown",
   "id": "430f8e9c",
   "metadata": {},
   "source": [
    "### 多项式函数 \n",
    "多项式函数是变量的整数次幂与系数的乘积之和，可以用下面的数学公式表示:\n",
    "$$f(x)=a_nx^n+a_{n-1}x^{n-1}+ \\cdots + a_1x+a_0 $$"
   ]
  },
  {
   "cell_type": "code",
   "execution_count": 60,
   "id": "ba29a992",
   "metadata": {},
   "outputs": [],
   "source": [
    "a = np.array([1.0, 0, -2, 1])\n",
    "p = np.poly1d(a)"
   ]
  },
  {
   "cell_type": "markdown",
   "id": "8cb48fcf",
   "metadata": {},
   "source": [
    "我们可以用polyld()表示多项式：\n",
    "$$f(x)=x^3-2x+1$$\n",
    "此对象可以像函数一样调用， 它返回多项式函数的值:"
   ]
  },
  {
   "cell_type": "code",
   "execution_count": 61,
   "id": "c34b54f2",
   "metadata": {},
   "outputs": [
    {
     "data": {
      "text/plain": [
       "array([  1.   ,  11.625, 116.   , 407.875, 981.   ])"
      ]
     },
     "execution_count": 61,
     "metadata": {},
     "output_type": "execute_result"
    }
   ],
   "source": [
    "b = np.linspace(0, 10, 5)\n",
    "p(b)"
   ]
  },
  {
   "cell_type": "code",
   "execution_count": 62,
   "id": "9d3c65f2",
   "metadata": {},
   "outputs": [
    {
     "data": {
      "text/plain": [
       "poly1d([ 1.,  0., -4.,  2.])"
      ]
     },
     "execution_count": 62,
     "metadata": {},
     "output_type": "execute_result"
    }
   ],
   "source": [
    "p + [-2, 1] # 和 p + np.polyld([-2, 1])相同"
   ]
  },
  {
   "cell_type": "code",
   "execution_count": 63,
   "id": "92c17395",
   "metadata": {},
   "outputs": [
    {
     "data": {
      "text/plain": [
       "poly1d([ 1.,  0., -4.,  2.,  4., -4.,  1.])"
      ]
     },
     "execution_count": 63,
     "metadata": {},
     "output_type": "execute_result"
    }
   ],
   "source": [
    "p * p #两个3次多项式相乘得到一个6次多项式"
   ]
  },
  {
   "cell_type": "code",
   "execution_count": 64,
   "id": "c5e9ce81",
   "metadata": {},
   "outputs": [
    {
     "data": {
      "text/plain": [
       "(poly1d([ 1., -1., -1.]), poly1d([2.]))"
      ]
     },
     "execution_count": 64,
     "metadata": {},
     "output_type": "execute_result"
    }
   ],
   "source": [
    "p / [1, 1] #除法返M两个多项式，分别为商式和余式"
   ]
  },
  {
   "cell_type": "markdown",
   "id": "afef5acc",
   "metadata": {},
   "source": [
    "多项式对象的deriv()和integ()方法分別计算多项式函数的微分和积分:"
   ]
  },
  {
   "cell_type": "code",
   "execution_count": 65,
   "id": "bad5a234",
   "metadata": {},
   "outputs": [
    {
     "data": {
      "text/plain": [
       "poly1d([ 3.,  0., -2.])"
      ]
     },
     "execution_count": 65,
     "metadata": {},
     "output_type": "execute_result"
    }
   ],
   "source": [
    "p.deriv()"
   ]
  },
  {
   "cell_type": "code",
   "execution_count": 66,
   "id": "0a3dd15c",
   "metadata": {},
   "outputs": [
    {
     "data": {
      "text/plain": [
       "poly1d([ 0.25,  0.  , -1.  ,  1.  ,  0.  ])"
      ]
     },
     "execution_count": 66,
     "metadata": {},
     "output_type": "execute_result"
    }
   ],
   "source": [
    "p.integ()"
   ]
  },
  {
   "cell_type": "code",
   "execution_count": 68,
   "id": "5a172d56",
   "metadata": {},
   "outputs": [
    {
     "data": {
      "text/plain": [
       "True"
      ]
     },
     "execution_count": 68,
     "metadata": {},
     "output_type": "execute_result"
    }
   ],
   "source": [
    "p.integ().deriv() == p"
   ]
  },
  {
   "cell_type": "markdown",
   "id": "19e2746d",
   "metadata": {},
   "source": [
    "多项式函数的根可以使用roots()函数计算:"
   ]
  },
  {
   "cell_type": "code",
   "execution_count": 70,
   "id": "7f014beb",
   "metadata": {},
   "outputs": [
    {
     "data": {
      "text/plain": [
       "array([-1.61803399,  1.        ,  0.61803399])"
      ]
     },
     "execution_count": 70,
     "metadata": {},
     "output_type": "execute_result"
    }
   ],
   "source": [
    "np.roots(p)"
   ]
  },
  {
   "cell_type": "code",
   "execution_count": 72,
   "id": "085d4309",
   "metadata": {},
   "outputs": [
    {
     "data": {
      "text/plain": [
       "array([0., 0., 0.])"
      ]
     },
     "execution_count": 72,
     "metadata": {},
     "output_type": "execute_result"
    }
   ],
   "source": [
    "np.set_printoptions(suppress=True, precision=4)\n",
    "p(np.roots(p)) # 结果为0"
   ]
  },
  {
   "cell_type": "markdown",
   "id": "57b97892",
   "metadata": {},
   "source": [
    "除了使用多项式对象之外，也可以直接使用NumPy提供的多项式函数对表示多项式系数的数组进行运算，下面使用polyfit()拟合sin函数："
   ]
  },
  {
   "cell_type": "code",
   "execution_count": 73,
   "id": "a6197330",
   "metadata": {},
   "outputs": [
    {
     "name": "stdout",
     "output_type": "stream",
     "text": [
      "degree:3: [-0.145   0.      0.9887  0.    ]\n",
      "max error: 0.008946993767080635\n",
      "degree:5: [ 0.0076 -0.     -0.1658  0.      0.9998 -0.    ]\n",
      "max error: 0.00015740861417157248\n",
      "degree:7: [-0.0002 -0.      0.0083  0.     -0.1667 -0.      1.      0.    ]\n",
      "max error: 1.5268255799671948e-06\n"
     ]
    }
   ],
   "source": [
    "x = np.linspace(-np.pi/2, np.pi/2, 1000)\n",
    "y = np.sin(x)\n",
    "\n",
    "for deg in [3, 5, 7]: # 分别使用3次，5次，7次多项式拟合\n",
    "    a = np.polyfit(x, y, deg)\n",
    "    error = np.abs(np.polyval(a, x)-y) # 计算每个样本的误差\n",
    "    print(\"degree:{}: {}\".format(deg, a))\n",
    "    print(\"max error: {}\".format(error.max()))"
   ]
  },
  {
   "cell_type": "markdown",
   "id": "1126b66d",
   "metadata": {},
   "source": [
    "### 各种乘积运算\n",
    "数组一共有以下几种乘积：\n",
    "+ dot: 乘积\n",
    "+ inner： 内积\n",
    "+ outer： 外积\n",
    "+ tensordot： 张量乘积"
   ]
  },
  {
   "cell_type": "code",
   "execution_count": 75,
   "id": "cd9f1ab2",
   "metadata": {},
   "outputs": [
    {
     "data": {
      "text/plain": [
       "array([[0, 1, 2],\n",
       "       [3, 4, 5]])"
      ]
     },
     "execution_count": 75,
     "metadata": {},
     "output_type": "execute_result"
    }
   ],
   "source": [
    "a = np.arange(6).reshape(2,3)\n",
    "a"
   ]
  },
  {
   "cell_type": "code",
   "execution_count": 77,
   "id": "e9921361",
   "metadata": {},
   "outputs": [
    {
     "data": {
      "text/plain": [
       "array([[5, 3],\n",
       "       [9, 6],\n",
       "       [8, 6]])"
      ]
     },
     "execution_count": 77,
     "metadata": {},
     "output_type": "execute_result"
    }
   ],
   "source": [
    "b = np.random.randint(0,10,(3,2))\n",
    "b"
   ]
  },
  {
   "cell_type": "code",
   "execution_count": 78,
   "id": "466a6fe6",
   "metadata": {},
   "outputs": [
    {
     "data": {
      "text/plain": [
       "array([[25, 18],\n",
       "       [91, 63]])"
      ]
     },
     "execution_count": 78,
     "metadata": {},
     "output_type": "execute_result"
    }
   ],
   "source": [
    "np.dot(a, b) # 最常见的乘积"
   ]
  },
  {
   "cell_type": "code",
   "execution_count": 81,
   "id": "82e6f6de",
   "metadata": {},
   "outputs": [
    {
     "data": {
      "text/plain": [
       "array([[ 5, 14],\n",
       "       [14, 50]])"
      ]
     },
     "execution_count": 81,
     "metadata": {},
     "output_type": "execute_result"
    }
   ],
   "source": [
    "c = np.arange(6).reshape(2,3)\n",
    "np.inner(a, c)  # 内积就是每一行乘积"
   ]
  },
  {
   "cell_type": "code",
   "execution_count": 83,
   "id": "003df6e1",
   "metadata": {},
   "outputs": [
    {
     "data": {
      "text/plain": [
       "array([[ 0,  0,  0,  0,  0,  0],\n",
       "       [ 0,  1,  2,  3,  4,  5],\n",
       "       [ 0,  2,  4,  6,  8, 10],\n",
       "       [ 0,  3,  6,  9, 12, 15],\n",
       "       [ 0,  4,  8, 12, 16, 20],\n",
       "       [ 0,  5, 10, 15, 20, 25]])"
      ]
     },
     "execution_count": 83,
     "metadata": {},
     "output_type": "execute_result"
    }
   ],
   "source": [
    "np.outer(a, c)"
   ]
  },
  {
   "cell_type": "code",
   "execution_count": 84,
   "id": "d4e5ebb2",
   "metadata": {},
   "outputs": [
    {
     "data": {
      "text/plain": [
       "array(55)"
      ]
     },
     "execution_count": 84,
     "metadata": {},
     "output_type": "execute_result"
    }
   ],
   "source": [
    "np.tensordot(a, c) # 对应元素乘积之和"
   ]
  },
  {
   "cell_type": "code",
   "execution_count": 85,
   "id": "caa49926",
   "metadata": {},
   "outputs": [
    {
     "data": {
      "text/plain": [
       "array([[ 0,  1,  4],\n",
       "       [ 9, 16, 25]])"
      ]
     },
     "execution_count": 85,
     "metadata": {},
     "output_type": "execute_result"
    }
   ],
   "source": [
    "a*c # 对应元素乘积"
   ]
  }
 ],
 "metadata": {
  "kernelspec": {
   "display_name": "Python 3 (ipykernel)",
   "language": "python",
   "name": "python3"
  },
  "language_info": {
   "codemirror_mode": {
    "name": "ipython",
    "version": 3
   },
   "file_extension": ".py",
   "mimetype": "text/x-python",
   "name": "python",
   "nbconvert_exporter": "python",
   "pygments_lexer": "ipython3",
   "version": "3.8.10"
  },
  "toc": {
   "base_numbering": 1,
   "nav_menu": {},
   "number_sections": true,
   "sideBar": true,
   "skip_h1_title": false,
   "title_cell": "Table of Contents",
   "title_sidebar": "Contents",
   "toc_cell": false,
   "toc_position": {
    "height": "calc(100% - 180px)",
    "left": "10px",
    "top": "150px",
    "width": "384px"
   },
   "toc_section_display": true,
   "toc_window_display": false
  }
 },
 "nbformat": 4,
 "nbformat_minor": 5
}
